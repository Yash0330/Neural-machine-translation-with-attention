{
 "cells": [
  {
   "cell_type": "markdown",
   "metadata": {},
   "source": [
    "# Neural Machine Translation\n",
    "\n",
    "Welcome to your first programming assignment for this week! \n",
    "\n",
    "You will build a Neural Machine Translation (NMT) model to translate human readable dates (\"25th of June, 2009\") into machine readable dates (\"2009-06-25\"). You will do this using an attention model, one of the most sophisticated sequence to sequence models. \n",
    "\n",
    "This notebook was produced together with NVIDIA's Deep Learning Institute. \n",
    "\n",
    "Let's load all the packages you will need for this assignment."
   ]
  },
  {
   "cell_type": "code",
   "execution_count": 1,
   "metadata": {},
   "outputs": [
    {
     "name": "stderr",
     "output_type": "stream",
     "text": [
      "Using TensorFlow backend.\n"
     ]
    }
   ],
   "source": [
    "from keras.layers import Bidirectional, Concatenate, Permute, Dot, Input, LSTM, Multiply\n",
    "from keras.layers import RepeatVector, Dense, Activation, Lambda\n",
    "from keras.optimizers import Adam\n",
    "from keras.utils import to_categorical\n",
    "from keras.models import load_model, Model\n",
    "import keras.backend as K\n",
    "import numpy as np\n",
    "\n",
    "from faker import Faker\n",
    "import random\n",
    "from tqdm import tqdm\n",
    "from babel.dates import format_date\n",
    "from nmt_utils import *\n",
    "import matplotlib.pyplot as plt\n",
    "%matplotlib inline"
   ]
  },
  {
   "cell_type": "markdown",
   "metadata": {},
   "source": [
    "## 1 - Translating human readable dates into machine readable dates\n",
    "\n",
    "The model you will build here could be used to translate from one language to another, such as translating from English to Hindi. However, language translation requires massive datasets and usually takes days of training on GPUs. To give you a place to experiment with these models even without using massive datasets, we will instead use a simpler \"date translation\" task. \n",
    "\n",
    "The network will input a date written in a variety of possible formats (*e.g. \"the 29th of August 1958\", \"03/30/1968\", \"24 JUNE 1987\"*) and translate them into standardized, machine readable dates (*e.g. \"1958-08-29\", \"1968-03-30\", \"1987-06-24\"*). We will have the network learn to output dates in the common machine-readable format YYYY-MM-DD. \n",
    "\n",
    "\n",
    "\n",
    "<!-- \n",
    "Take a look at [nmt_utils.py](./nmt_utils.py) to see all the formatting. Count and figure out how the formats work, you will need this knowledge later. !--> "
   ]
  },
  {
   "cell_type": "markdown",
   "metadata": {},
   "source": [
    "### 1.1 - Dataset\n",
    "\n",
    "We will train the model on a dataset of 10000 human readable dates and their equivalent, standardized, machine readable dates. Let's run the following cells to load the dataset and print some examples. "
   ]
  },
  {
   "cell_type": "code",
   "execution_count": 2,
   "metadata": {},
   "outputs": [
    {
     "name": "stderr",
     "output_type": "stream",
     "text": [
      "100%|██████████| 10000/10000 [00:00<00:00, 24882.49it/s]\n"
     ]
    }
   ],
   "source": [
    "m = 10000\n",
    "dataset, human_vocab, machine_vocab, inv_machine_vocab = load_dataset(m)"
   ]
  },
  {
   "cell_type": "code",
   "execution_count": 3,
   "metadata": {},
   "outputs": [
    {
     "data": {
      "text/plain": [
       "[('9 may 1998', '1998-05-09'),\n",
       " ('10.09.70', '1970-09-10'),\n",
       " ('4/28/90', '1990-04-28'),\n",
       " ('thursday january 26 1995', '1995-01-26'),\n",
       " ('monday march 7 1983', '1983-03-07'),\n",
       " ('sunday may 22 1988', '1988-05-22'),\n",
       " ('tuesday july 8 2008', '2008-07-08'),\n",
       " ('08 sep 1999', '1999-09-08'),\n",
       " ('1 jan 1981', '1981-01-01'),\n",
       " ('monday may 22 1995', '1995-05-22')]"
      ]
     },
     "execution_count": 3,
     "metadata": {},
     "output_type": "execute_result"
    }
   ],
   "source": [
    "dataset[:10]"
   ]
  },
  {
   "cell_type": "markdown",
   "metadata": {},
   "source": [
    "You've loaded:\n",
    "- `dataset`: a list of tuples of (human readable date, machine readable date)\n",
    "- `human_vocab`: a python dictionary mapping all characters used in the human readable dates to an integer-valued index \n",
    "- `machine_vocab`: a python dictionary mapping all characters used in machine readable dates to an integer-valued index. These indices are not necessarily consistent with `human_vocab`. \n",
    "- `inv_machine_vocab`: the inverse dictionary of `machine_vocab`, mapping from indices back to characters. \n",
    "\n",
    "Let's preprocess the data and map the raw text data into the index values. We will also use Tx=30 (which we assume is the maximum length of the human readable date; if we get a longer input, we would have to truncate it) and Ty=10 (since \"YYYY-MM-DD\" is 10 characters long). "
   ]
  },
  {
   "cell_type": "code",
   "execution_count": 4,
   "metadata": {},
   "outputs": [
    {
     "name": "stdout",
     "output_type": "stream",
     "text": [
      "X.shape: (10000, 30)\n",
      "Y.shape: (10000, 10)\n",
      "Xoh.shape: (10000, 30, 37)\n",
      "Yoh.shape: (10000, 10, 11)\n"
     ]
    }
   ],
   "source": [
    "Tx = 30\n",
    "Ty = 10\n",
    "X, Y, Xoh, Yoh = preprocess_data(dataset, human_vocab, machine_vocab, Tx, Ty)\n",
    "\n",
    "print(\"X.shape:\", X.shape)\n",
    "print(\"Y.shape:\", Y.shape)\n",
    "print(\"Xoh.shape:\", Xoh.shape)\n",
    "print(\"Yoh.shape:\", Yoh.shape)"
   ]
  },
  {
   "cell_type": "markdown",
   "metadata": {},
   "source": [
    "You now have:\n",
    "- `X`: a processed version of the human readable dates in the training set, where each character is replaced by an index mapped to the character via `human_vocab`. Each date is further padded to $T_x$ values with a special character (< pad >). `X.shape = (m, Tx)`\n",
    "- `Y`: a processed version of the machine readable dates in the training set, where each character is replaced by the index it is mapped to in `machine_vocab`. You should have `Y.shape = (m, Ty)`. \n",
    "- `Xoh`: one-hot version of `X`, the \"1\" entry's index is mapped to the character thanks to `human_vocab`. `Xoh.shape = (m, Tx, len(human_vocab))`\n",
    "- `Yoh`: one-hot version of `Y`, the \"1\" entry's index is mapped to the character thanks to `machine_vocab`. `Yoh.shape = (m, Tx, len(machine_vocab))`. Here, `len(machine_vocab) = 11` since there are 11 characters ('-' as well as 0-9). \n"
   ]
  },
  {
   "cell_type": "markdown",
   "metadata": {},
   "source": [
    "Lets also look at some examples of preprocessed training examples. Feel free to play with `index` in the cell below to navigate the dataset and see how source/target dates are preprocessed. "
   ]
  },
  {
   "cell_type": "code",
   "execution_count": 5,
   "metadata": {},
   "outputs": [
    {
     "name": "stdout",
     "output_type": "stream",
     "text": [
      "Source date: 9 may 1998\n",
      "Target date: 1998-05-09\n",
      "\n",
      "Source after preprocessing (indices): [12  0 24 13 34  0  4 12 12 11 36 36 36 36 36 36 36 36 36 36 36 36 36 36\n",
      " 36 36 36 36 36 36]\n",
      "Target after preprocessing (indices): [ 2 10 10  9  0  1  6  0  1 10]\n",
      "\n",
      "Source after preprocessing (one-hot): [[0. 0. 0. ... 0. 0. 0.]\n",
      " [1. 0. 0. ... 0. 0. 0.]\n",
      " [0. 0. 0. ... 0. 0. 0.]\n",
      " ...\n",
      " [0. 0. 0. ... 0. 0. 1.]\n",
      " [0. 0. 0. ... 0. 0. 1.]\n",
      " [0. 0. 0. ... 0. 0. 1.]]\n",
      "Target after preprocessing (one-hot): [[0. 0. 1. 0. 0. 0. 0. 0. 0. 0. 0.]\n",
      " [0. 0. 0. 0. 0. 0. 0. 0. 0. 0. 1.]\n",
      " [0. 0. 0. 0. 0. 0. 0. 0. 0. 0. 1.]\n",
      " [0. 0. 0. 0. 0. 0. 0. 0. 0. 1. 0.]\n",
      " [1. 0. 0. 0. 0. 0. 0. 0. 0. 0. 0.]\n",
      " [0. 1. 0. 0. 0. 0. 0. 0. 0. 0. 0.]\n",
      " [0. 0. 0. 0. 0. 0. 1. 0. 0. 0. 0.]\n",
      " [1. 0. 0. 0. 0. 0. 0. 0. 0. 0. 0.]\n",
      " [0. 1. 0. 0. 0. 0. 0. 0. 0. 0. 0.]\n",
      " [0. 0. 0. 0. 0. 0. 0. 0. 0. 0. 1.]]\n"
     ]
    }
   ],
   "source": [
    "index = 0\n",
    "print(\"Source date:\", dataset[index][0])\n",
    "print(\"Target date:\", dataset[index][1])\n",
    "print()\n",
    "print(\"Source after preprocessing (indices):\", X[index])\n",
    "print(\"Target after preprocessing (indices):\", Y[index])\n",
    "print()\n",
    "print(\"Source after preprocessing (one-hot):\", Xoh[index])\n",
    "print(\"Target after preprocessing (one-hot):\", Yoh[index])"
   ]
  },
  {
   "cell_type": "markdown",
   "metadata": {},
   "source": [
    "## 2 - Neural machine translation with attention\n",
    "\n",
    "If you had to translate a book's paragraph from French to English, you would not read the whole paragraph, then close the book and translate. Even during the translation process, you would read/re-read and focus on the parts of the French paragraph corresponding to the parts of the English you are writing down. \n",
    "\n",
    "The attention mechanism tells a Neural Machine Translation model where it should pay attention to at any step. \n",
    "\n",
    "\n",
    "### 2.1 - Attention mechanism\n",
    "\n",
    "In this part, you will implement the attention mechanism presented in the lecture videos. Here is a figure to remind you how the model works. The diagram on the left shows the attention model. The diagram on the right shows what one \"Attention\" step does to calculate the attention variables $\\alpha^{\\langle t, t' \\rangle}$, which are used to compute the context variable $context^{\\langle t \\rangle}$ for each timestep in the output ($t=1, \\ldots, T_y$). \n",
    "\n",
    "<table>\n",
    "<td> \n",
    "<img src=\"images/attn_model.png\" style=\"width:500;height:500px;\"> <br>\n",
    "</td> \n",
    "<td> \n",
    "<img src=\"images/attn_mechanism.png\" style=\"width:500;height:500px;\"> <br>\n",
    "</td> \n",
    "</table>\n",
    "<caption><center> **Figure 1**: Neural machine translation with attention</center></caption>\n"
   ]
  },
  {
   "cell_type": "markdown",
   "metadata": {},
   "source": [
    "\n",
    "Here are some properties of the model that you may notice: \n",
    "\n",
    "- There are two separate LSTMs in this model (see diagram on the left). Because the one at the bottom of the picture is a Bi-directional LSTM and comes *before* the attention mechanism, we will call it *pre-attention* Bi-LSTM. The LSTM at the top of the diagram comes *after* the attention mechanism, so we will call it the *post-attention* LSTM. The pre-attention Bi-LSTM goes through $T_x$ time steps; the post-attention LSTM goes through $T_y$ time steps. \n",
    "\n",
    "- The post-attention LSTM passes $s^{\\langle t \\rangle}, c^{\\langle t \\rangle}$ from one time step to the next. In the lecture videos, we were using only a basic RNN for the post-activation sequence model, so the state captured by the RNN output activations $s^{\\langle t\\rangle}$. But since we are using an LSTM here, the LSTM has both the output activation $s^{\\langle t\\rangle}$ and the hidden cell state $c^{\\langle t\\rangle}$. However, unlike previous text generation examples (such as Dinosaurus in week 1), in this model the post-activation LSTM at time $t$ does will not take the specific generated $y^{\\langle t-1 \\rangle}$ as input; it only takes $s^{\\langle t\\rangle}$ and $c^{\\langle t\\rangle}$ as input. We have designed the model this way, because (unlike language generation where adjacent characters are highly correlated) there isn't as strong a dependency between the previous character and the next character in a YYYY-MM-DD date. \n",
    "\n",
    "- We use $a^{\\langle t \\rangle} = [\\overrightarrow{a}^{\\langle t \\rangle}; \\overleftarrow{a}^{\\langle t \\rangle}]$ to represent the concatenation of the activations of both the forward-direction and backward-directions of the pre-attention Bi-LSTM. \n",
    "\n",
    "- The diagram on the right uses a `RepeatVector` node to copy $s^{\\langle t-1 \\rangle}$'s value $T_x$ times, and then `Concatenation` to concatenate $s^{\\langle t-1 \\rangle}$ and $a^{\\langle t \\rangle}$ to compute $e^{\\langle t, t'}$, which is then passed through a softmax to compute $\\alpha^{\\langle t, t' \\rangle}$. We'll explain how to use `RepeatVector` and `Concatenation` in Keras below. \n",
    "\n",
    "Lets implement this model. You will start by implementing two functions: `one_step_attention()` and `model()`.\n",
    "\n",
    "**1) `one_step_attention()`**: At step $t$, given all the hidden states of the Bi-LSTM ($[a^{<1>},a^{<2>}, ..., a^{<T_x>}]$) and the previous hidden state of the second LSTM ($s^{<t-1>}$), `one_step_attention()` will compute the attention weights ($[\\alpha^{<t,1>},\\alpha^{<t,2>}, ..., \\alpha^{<t,T_x>}]$) and output the context vector (see Figure  1 (right) for details):\n",
    "$$context^{<t>} = \\sum_{t' = 1}^{T_x} \\alpha^{<t,t'>}a^{<t'>}\\tag{1}$$ \n",
    "\n",
    "Note that we are denoting the attention in this notebook $context^{\\langle t \\rangle}$. In the lecture videos, the context was denoted $c^{\\langle t \\rangle}$, but here we are calling it $context^{\\langle t \\rangle}$ to avoid confusion with the (post-attention) LSTM's internal memory cell variable, which is sometimes also denoted $c^{\\langle t \\rangle}$. \n",
    "  \n",
    "**2) `model()`**: Implements the entire model. It first runs the input through a Bi-LSTM to get back $[a^{<1>},a^{<2>}, ..., a^{<T_x>}]$. Then, it calls `one_step_attention()` $T_y$ times (`for` loop). At each iteration of this loop, it gives the computed context vector $c^{<t>}$ to the second LSTM, and runs the output of the LSTM through a dense layer with softmax activation to generate a prediction $\\hat{y}^{<t>}$. \n",
    "\n",
    "\n",
    "\n",
    "**Exercise**: Implement `one_step_attention()`. The function `model()` will call the layers in `one_step_attention()` $T_y$ using a for-loop, and it is important that all $T_y$ copies have the same weights. I.e., it should not re-initiaiize the weights every time. In other words, all $T_y$ steps should have shared weights. Here's how you can implement layers with shareable weights in Keras:\n",
    "1. Define the layer objects (as global variables for examples).\n",
    "2. Call these objects when propagating the input.\n",
    "\n",
    "We have defined the layers you need as global variables. Please run the following cells to create them. Please check the Keras documentation to make sure you understand what these layers are: [RepeatVector()](https://keras.io/layers/core/#repeatvector), [Concatenate()](https://keras.io/layers/merge/#concatenate), [Dense()](https://keras.io/layers/core/#dense), [Activation()](https://keras.io/layers/core/#activation), [Dot()](https://keras.io/layers/merge/#dot)."
   ]
  },
  {
   "cell_type": "code",
   "execution_count": 6,
   "metadata": {},
   "outputs": [],
   "source": [
    "# Defined shared layers as global variables\n",
    "repeator = RepeatVector(Tx)\n",
    "concatenator = Concatenate(axis=-1)\n",
    "densor1 = Dense(10, activation = \"tanh\")\n",
    "densor2 = Dense(1, activation = \"relu\")\n",
    "activator = Activation(softmax, name='attention_weights') # We are using a custom softmax(axis = 1) loaded in this notebook\n",
    "dotor = Dot(axes = 1)"
   ]
  },
  {
   "cell_type": "markdown",
   "metadata": {},
   "source": [
    "Now you can use these layers to implement `one_step_attention()`. In order to propagate a Keras tensor object X through one of these layers, use `layer(X)` (or `layer([X,Y])` if it requires multiple inputs.), e.g. `densor(X)` will propagate X through the `Dense(1)` layer defined above."
   ]
  },
  {
   "cell_type": "code",
   "execution_count": 7,
   "metadata": {},
   "outputs": [],
   "source": [
    "# GRADED FUNCTION: one_step_attention\n",
    "\n",
    "def one_step_attention(a, s_prev):\n",
    "    \"\"\"\n",
    "    Performs one step of attention: Outputs a context vector computed as a dot product of the attention weights\n",
    "    \"alphas\" and the hidden states \"a\" of the Bi-LSTM.\n",
    "    \n",
    "    Arguments:\n",
    "    a -- hidden state output of the Bi-LSTM, numpy-array of shape (m, Tx, 2*n_a)\n",
    "    s_prev -- previous hidden state of the (post-attention) LSTM, numpy-array of shape (m, n_s)\n",
    "    \n",
    "    Returns:\n",
    "    context -- context vector, input of the next (post-attetion) LSTM cell\n",
    "    \"\"\"\n",
    "    \n",
    "    ### START CODE HERE ###\n",
    "    # Use repeator to repeat s_prev to be of shape (m, Tx, n_s) so that you can concatenate it with all hidden states \"a\" (≈ 1 line)\n",
    "    s_prev = repeator(s_prev)\n",
    "    # Use concatenator to concatenate a and s_prev on the last axis (≈ 1 line)\n",
    "    concat = concatenator([a,s_prev])\n",
    "    # Use densor1 to propagate concat through a small fully-connected neural network to compute the \"intermediate energies\" variable e. (≈1 lines)\n",
    "    e = densor1(concat)\n",
    "    # Use densor2 to propagate e through a small fully-connected neural network to compute the \"energies\" variable energies. (≈1 lines)\n",
    "    energies = densor2(e)\n",
    "    # Use \"activator\" on \"energies\" to compute the attention weights \"alphas\" (≈ 1 line)\n",
    "    alphas = activator(energies)\n",
    "    # Use dotor together with \"alphas\" and \"a\" to compute the context vector to be given to the next (post-attention) LSTM-cell (≈ 1 line)\n",
    "    context = dotor([alphas,a])\n",
    "    ### END CODE HERE ###\n",
    "    \n",
    "    return context"
   ]
  },
  {
   "cell_type": "markdown",
   "metadata": {},
   "source": [
    "You will be able to check the expected output of `one_step_attention()` after you've coded the `model()` function."
   ]
  },
  {
   "cell_type": "markdown",
   "metadata": {},
   "source": [
    "**Exercise**: Implement `model()` as explained in figure 2 and the text above. Again, we have defined global layers that will share weights to be used in `model()`."
   ]
  },
  {
   "cell_type": "code",
   "execution_count": 8,
   "metadata": {},
   "outputs": [],
   "source": [
    "n_a = 32\n",
    "n_s = 64\n",
    "post_activation_LSTM_cell = LSTM(n_s, return_state = True)\n",
    "output_layer = Dense(len(machine_vocab), activation=softmax)"
   ]
  },
  {
   "cell_type": "markdown",
   "metadata": {},
   "source": [
    "Now you can use these layers $T_y$ times in a `for` loop to generate the outputs, and their parameters will not be reinitialized. You will have to carry out the following steps: \n",
    "\n",
    "1. Propagate the input into a [Bidirectional](https://keras.io/layers/wrappers/#bidirectional) [LSTM](https://keras.io/layers/recurrent/#lstm)\n",
    "2. Iterate for $t = 0, \\dots, T_y-1$: \n",
    "    1. Call `one_step_attention()` on $[\\alpha^{<t,1>},\\alpha^{<t,2>}, ..., \\alpha^{<t,T_x>}]$ and $s^{<t-1>}$ to get the context vector $context^{<t>}$.\n",
    "    2. Give $context^{<t>}$ to the post-attention LSTM cell. Remember pass in the previous hidden-state $s^{\\langle t-1\\rangle}$ and cell-states $c^{\\langle t-1\\rangle}$ of this LSTM using `initial_state= [previous hidden state, previous cell state]`. Get back the new hidden state $s^{<t>}$ and the new cell state $c^{<t>}$.\n",
    "    3. Apply a softmax layer to $s^{<t>}$, get the output. \n",
    "    4. Save the output by adding it to the list of outputs.\n",
    "\n",
    "3. Create your Keras model instance, it should have three inputs (\"inputs\", $s^{<0>}$ and $c^{<0>}$) and output the list of \"outputs\"."
   ]
  },
  {
   "cell_type": "code",
   "execution_count": 9,
   "metadata": {},
   "outputs": [],
   "source": [
    "# GRADED FUNCTION: model\n",
    "\n",
    "def model(Tx, Ty, n_a, n_s, human_vocab_size, machine_vocab_size):\n",
    "    \"\"\"\n",
    "    Arguments:\n",
    "    Tx -- length of the input sequence\n",
    "    Ty -- length of the output sequence\n",
    "    n_a -- hidden state size of the Bi-LSTM\n",
    "    n_s -- hidden state size of the post-attention LSTM\n",
    "    human_vocab_size -- size of the python dictionary \"human_vocab\"\n",
    "    machine_vocab_size -- size of the python dictionary \"machine_vocab\"\n",
    "\n",
    "    Returns:\n",
    "    model -- Keras model instance\n",
    "    \"\"\"\n",
    "    \n",
    "    # Define the inputs of your model with a shape (Tx,)\n",
    "    # Define s0 and c0, initial hidden state for the decoder LSTM of shape (n_s,)\n",
    "    X = Input(shape=(Tx, human_vocab_size))\n",
    "    s0 = Input(shape=(n_s,), name='s0')\n",
    "    c0 = Input(shape=(n_s,), name='c0')\n",
    "    s = s0\n",
    "    c = c0\n",
    "    \n",
    "    # Initialize empty list of outputs\n",
    "    outputs = []\n",
    "    \n",
    "    ### START CODE HERE ###\n",
    "    \n",
    "    # Step 1: Define your pre-attention Bi-LSTM. Remember to use return_sequences=True. (≈ 1 line)\n",
    "    a = Bidirectional(LSTM(n_a, return_sequences = True), input_shape = (m, Tx, n_a*2))(X)\n",
    "    \n",
    "    # Step 2: Iterate for Ty steps\n",
    "    for t in range(Ty):\n",
    "    \n",
    "        # Step 2.A: Perform one step of the attention mechanism to get back the context vector at step t (≈ 1 line)\n",
    "        context = one_step_attention(a, s)\n",
    "        \n",
    "        # Step 2.B: Apply the post-attention LSTM cell to the \"context\" vector.\n",
    "        # Don't forget to pass: initial_state = [hidden state, cell state] (≈ 1 line)\n",
    "        s, _, c = post_activation_LSTM_cell(context,initial_state = [s, c])\n",
    "        \n",
    "        # Step 2.C: Apply Dense layer to the hidden state output of the post-attention LSTM (≈ 1 line)\n",
    "        out = output_layer(s)\n",
    "        \n",
    "        # Step 2.D: Append \"out\" to the \"outputs\" list (≈ 1 line)\n",
    "        outputs.append(out)\n",
    "    \n",
    "    # Step 3: Create model instance taking three inputs and returning the list of outputs. (≈ 1 line)\n",
    "    model = Model(inputs=[X,s0,c0], outputs=outputs)\n",
    "    \n",
    "    ### END CODE HERE ###\n",
    "    \n",
    "    return model"
   ]
  },
  {
   "cell_type": "markdown",
   "metadata": {},
   "source": [
    "Run the following cell to create your model."
   ]
  },
  {
   "cell_type": "code",
   "execution_count": 10,
   "metadata": {},
   "outputs": [
    {
     "name": "stdout",
     "output_type": "stream",
     "text": [
      "WARNING:tensorflow:From D:\\Programs\\Anaconda\\lib\\site-packages\\tensorflow\\python\\framework\\op_def_library.py:263: colocate_with (from tensorflow.python.framework.ops) is deprecated and will be removed in a future version.\n",
      "Instructions for updating:\n",
      "Colocations handled automatically by placer.\n"
     ]
    }
   ],
   "source": [
    "model = model(Tx, Ty, n_a, n_s, len(human_vocab), len(machine_vocab))"
   ]
  },
  {
   "cell_type": "markdown",
   "metadata": {},
   "source": [
    "Let's get a summary of the model to check if it matches the expected output."
   ]
  },
  {
   "cell_type": "code",
   "execution_count": 11,
   "metadata": {},
   "outputs": [
    {
     "name": "stdout",
     "output_type": "stream",
     "text": [
      "__________________________________________________________________________________________________\n",
      "Layer (type)                    Output Shape         Param #     Connected to                     \n",
      "==================================================================================================\n",
      "input_1 (InputLayer)            (None, 30, 37)       0                                            \n",
      "__________________________________________________________________________________________________\n",
      "s0 (InputLayer)                 (None, 64)           0                                            \n",
      "__________________________________________________________________________________________________\n",
      "bidirectional_1 (Bidirectional) (None, 30, 64)       17920       input_1[0][0]                    \n",
      "__________________________________________________________________________________________________\n",
      "repeat_vector_1 (RepeatVector)  (None, 30, 64)       0           s0[0][0]                         \n",
      "                                                                 lstm_1[0][0]                     \n",
      "                                                                 lstm_1[1][0]                     \n",
      "                                                                 lstm_1[2][0]                     \n",
      "                                                                 lstm_1[3][0]                     \n",
      "                                                                 lstm_1[4][0]                     \n",
      "                                                                 lstm_1[5][0]                     \n",
      "                                                                 lstm_1[6][0]                     \n",
      "                                                                 lstm_1[7][0]                     \n",
      "                                                                 lstm_1[8][0]                     \n",
      "__________________________________________________________________________________________________\n",
      "concatenate_1 (Concatenate)     (None, 30, 128)      0           bidirectional_1[0][0]            \n",
      "                                                                 repeat_vector_1[0][0]            \n",
      "                                                                 bidirectional_1[0][0]            \n",
      "                                                                 repeat_vector_1[1][0]            \n",
      "                                                                 bidirectional_1[0][0]            \n",
      "                                                                 repeat_vector_1[2][0]            \n",
      "                                                                 bidirectional_1[0][0]            \n",
      "                                                                 repeat_vector_1[3][0]            \n",
      "                                                                 bidirectional_1[0][0]            \n",
      "                                                                 repeat_vector_1[4][0]            \n",
      "                                                                 bidirectional_1[0][0]            \n",
      "                                                                 repeat_vector_1[5][0]            \n",
      "                                                                 bidirectional_1[0][0]            \n",
      "                                                                 repeat_vector_1[6][0]            \n",
      "                                                                 bidirectional_1[0][0]            \n",
      "                                                                 repeat_vector_1[7][0]            \n",
      "                                                                 bidirectional_1[0][0]            \n",
      "                                                                 repeat_vector_1[8][0]            \n",
      "                                                                 bidirectional_1[0][0]            \n",
      "                                                                 repeat_vector_1[9][0]            \n",
      "__________________________________________________________________________________________________\n",
      "dense_1 (Dense)                 (None, 30, 10)       1290        concatenate_1[0][0]              \n",
      "                                                                 concatenate_1[1][0]              \n",
      "                                                                 concatenate_1[2][0]              \n",
      "                                                                 concatenate_1[3][0]              \n",
      "                                                                 concatenate_1[4][0]              \n",
      "                                                                 concatenate_1[5][0]              \n",
      "                                                                 concatenate_1[6][0]              \n",
      "                                                                 concatenate_1[7][0]              \n",
      "                                                                 concatenate_1[8][0]              \n",
      "                                                                 concatenate_1[9][0]              \n",
      "__________________________________________________________________________________________________\n",
      "dense_2 (Dense)                 (None, 30, 1)        11          dense_1[0][0]                    \n",
      "                                                                 dense_1[1][0]                    \n",
      "                                                                 dense_1[2][0]                    \n",
      "                                                                 dense_1[3][0]                    \n",
      "                                                                 dense_1[4][0]                    \n",
      "                                                                 dense_1[5][0]                    \n",
      "                                                                 dense_1[6][0]                    \n",
      "                                                                 dense_1[7][0]                    \n",
      "                                                                 dense_1[8][0]                    \n",
      "                                                                 dense_1[9][0]                    \n",
      "__________________________________________________________________________________________________\n",
      "attention_weights (Activation)  (None, 30, 1)        0           dense_2[0][0]                    \n",
      "                                                                 dense_2[1][0]                    \n",
      "                                                                 dense_2[2][0]                    \n",
      "                                                                 dense_2[3][0]                    \n",
      "                                                                 dense_2[4][0]                    \n",
      "                                                                 dense_2[5][0]                    \n",
      "                                                                 dense_2[6][0]                    \n",
      "                                                                 dense_2[7][0]                    \n",
      "                                                                 dense_2[8][0]                    \n",
      "                                                                 dense_2[9][0]                    \n",
      "__________________________________________________________________________________________________\n",
      "dot_1 (Dot)                     (None, 1, 64)        0           attention_weights[0][0]          \n",
      "                                                                 bidirectional_1[0][0]            \n",
      "                                                                 attention_weights[1][0]          \n",
      "                                                                 bidirectional_1[0][0]            \n",
      "                                                                 attention_weights[2][0]          \n",
      "                                                                 bidirectional_1[0][0]            \n",
      "                                                                 attention_weights[3][0]          \n",
      "                                                                 bidirectional_1[0][0]            \n"
     ]
    },
    {
     "name": "stdout",
     "output_type": "stream",
     "text": [
      "                                                                 attention_weights[4][0]          \n",
      "                                                                 bidirectional_1[0][0]            \n",
      "                                                                 attention_weights[5][0]          \n",
      "                                                                 bidirectional_1[0][0]            \n",
      "                                                                 attention_weights[6][0]          \n",
      "                                                                 bidirectional_1[0][0]            \n",
      "                                                                 attention_weights[7][0]          \n",
      "                                                                 bidirectional_1[0][0]            \n",
      "                                                                 attention_weights[8][0]          \n",
      "                                                                 bidirectional_1[0][0]            \n",
      "                                                                 attention_weights[9][0]          \n",
      "                                                                 bidirectional_1[0][0]            \n",
      "__________________________________________________________________________________________________\n",
      "c0 (InputLayer)                 (None, 64)           0                                            \n",
      "__________________________________________________________________________________________________\n",
      "lstm_1 (LSTM)                   [(None, 64), (None,  33024       dot_1[0][0]                      \n",
      "                                                                 s0[0][0]                         \n",
      "                                                                 c0[0][0]                         \n",
      "                                                                 dot_1[1][0]                      \n",
      "                                                                 lstm_1[0][0]                     \n",
      "                                                                 lstm_1[0][2]                     \n",
      "                                                                 dot_1[2][0]                      \n",
      "                                                                 lstm_1[1][0]                     \n",
      "                                                                 lstm_1[1][2]                     \n",
      "                                                                 dot_1[3][0]                      \n",
      "                                                                 lstm_1[2][0]                     \n",
      "                                                                 lstm_1[2][2]                     \n",
      "                                                                 dot_1[4][0]                      \n",
      "                                                                 lstm_1[3][0]                     \n",
      "                                                                 lstm_1[3][2]                     \n",
      "                                                                 dot_1[5][0]                      \n",
      "                                                                 lstm_1[4][0]                     \n",
      "                                                                 lstm_1[4][2]                     \n",
      "                                                                 dot_1[6][0]                      \n",
      "                                                                 lstm_1[5][0]                     \n",
      "                                                                 lstm_1[5][2]                     \n",
      "                                                                 dot_1[7][0]                      \n",
      "                                                                 lstm_1[6][0]                     \n",
      "                                                                 lstm_1[6][2]                     \n",
      "                                                                 dot_1[8][0]                      \n",
      "                                                                 lstm_1[7][0]                     \n",
      "                                                                 lstm_1[7][2]                     \n",
      "                                                                 dot_1[9][0]                      \n",
      "                                                                 lstm_1[8][0]                     \n",
      "                                                                 lstm_1[8][2]                     \n",
      "__________________________________________________________________________________________________\n",
      "dense_3 (Dense)                 (None, 11)           715         lstm_1[0][0]                     \n",
      "                                                                 lstm_1[1][0]                     \n",
      "                                                                 lstm_1[2][0]                     \n",
      "                                                                 lstm_1[3][0]                     \n",
      "                                                                 lstm_1[4][0]                     \n",
      "                                                                 lstm_1[5][0]                     \n",
      "                                                                 lstm_1[6][0]                     \n",
      "                                                                 lstm_1[7][0]                     \n",
      "                                                                 lstm_1[8][0]                     \n",
      "                                                                 lstm_1[9][0]                     \n",
      "==================================================================================================\n",
      "Total params: 52,960\n",
      "Trainable params: 52,960\n",
      "Non-trainable params: 0\n",
      "__________________________________________________________________________________________________\n"
     ]
    }
   ],
   "source": [
    "model.summary()"
   ]
  },
  {
   "cell_type": "markdown",
   "metadata": {},
   "source": [
    "**Expected Output**:\n",
    "\n",
    "Here is the summary you should see\n",
    "<table>\n",
    "    <tr>\n",
    "        <td>\n",
    "            **Total params:**\n",
    "        </td>\n",
    "        <td>\n",
    "         52,960\n",
    "        </td>\n",
    "    </tr>\n",
    "        <tr>\n",
    "        <td>\n",
    "            **Trainable params:**\n",
    "        </td>\n",
    "        <td>\n",
    "         52,960\n",
    "        </td>\n",
    "    </tr>\n",
    "            <tr>\n",
    "        <td>\n",
    "            **Non-trainable params:**\n",
    "        </td>\n",
    "        <td>\n",
    "         0\n",
    "        </td>\n",
    "    </tr>\n",
    "                    <tr>\n",
    "        <td>\n",
    "            **bidirectional_1's output shape **\n",
    "        </td>\n",
    "        <td>\n",
    "         (None, 30, 64)  \n",
    "        </td>\n",
    "    </tr>\n",
    "    <tr>\n",
    "        <td>\n",
    "            **repeat_vector_1's output shape **\n",
    "        </td>\n",
    "        <td>\n",
    "         (None, 30, 64) \n",
    "        </td>\n",
    "    </tr>\n",
    "                <tr>\n",
    "        <td>\n",
    "            **concatenate_1's output shape **\n",
    "        </td>\n",
    "        <td>\n",
    "         (None, 30, 128) \n",
    "        </td>\n",
    "    </tr>\n",
    "            <tr>\n",
    "        <td>\n",
    "            **attention_weights's output shape **\n",
    "        </td>\n",
    "        <td>\n",
    "         (None, 30, 1)  \n",
    "        </td>\n",
    "    </tr>\n",
    "        <tr>\n",
    "        <td>\n",
    "            **dot_1's output shape **\n",
    "        </td>\n",
    "        <td>\n",
    "         (None, 1, 64)\n",
    "        </td>\n",
    "    </tr>\n",
    "           <tr>\n",
    "        <td>\n",
    "            **dense_3's output shape **\n",
    "        </td>\n",
    "        <td>\n",
    "         (None, 11) \n",
    "        </td>\n",
    "    </tr>\n",
    "</table>\n"
   ]
  },
  {
   "cell_type": "markdown",
   "metadata": {},
   "source": [
    "As usual, after creating your model in Keras, you need to compile it and define what loss, optimizer and metrics you want to use. Compile your model using `categorical_crossentropy` loss, a custom [Adam](https://keras.io/optimizers/#adam) [optimizer](https://keras.io/optimizers/#usage-of-optimizers) (`learning rate = 0.005`, $\\beta_1 = 0.9$, $\\beta_2 = 0.999$, `decay = 0.01`)  and `['accuracy']` metrics:"
   ]
  },
  {
   "cell_type": "code",
   "execution_count": 12,
   "metadata": {},
   "outputs": [],
   "source": [
    "### START CODE HERE ### (≈2 lines)\n",
    "opt = Adam(lr = 0.005, beta_1 = 0.9, beta_2 = 0.999,decay = 0.01)  \n",
    "model.compile(loss = 'categorical_crossentropy', optimizer = opt,metrics = ['accuracy']) \n",
    "### END CODE HERE ###"
   ]
  },
  {
   "cell_type": "markdown",
   "metadata": {},
   "source": [
    "The last step is to define all your inputs and outputs to fit the model:\n",
    "- You already have X of shape $(m = 10000, T_x = 30)$ containing the training examples.\n",
    "- You need to create `s0` and `c0` to initialize your `post_attention_LSTM_cell` with 0s.\n",
    "- Given the `model()` you coded, you need the \"outputs\" to be a list of 11 elements of shape (m, T_y). So that: `outputs[i][0], ..., outputs[i][Ty]` represent the true labels (characters) corresponding to the $i^{th}$ training example (`X[i]`). More generally, `outputs[i][j]` is the true label of the $j^{th}$ character in the $i^{th}$ training example."
   ]
  },
  {
   "cell_type": "code",
   "execution_count": 13,
   "metadata": {},
   "outputs": [],
   "source": [
    "s0 = np.zeros((m, n_s))\n",
    "c0 = np.zeros((m, n_s))\n",
    "outputs = list(Yoh.swapaxes(0,1))"
   ]
  },
  {
   "cell_type": "markdown",
   "metadata": {},
   "source": [
    "Let's now fit the model and run it for one epoch."
   ]
  },
  {
   "cell_type": "code",
   "execution_count": 14,
   "metadata": {},
   "outputs": [
    {
     "name": "stdout",
     "output_type": "stream",
     "text": [
      "WARNING:tensorflow:From D:\\Programs\\Anaconda\\lib\\site-packages\\tensorflow\\python\\ops\\math_ops.py:3066: to_int32 (from tensorflow.python.ops.math_ops) is deprecated and will be removed in a future version.\n",
      "Instructions for updating:\n",
      "Use tf.cast instead.\n",
      "WARNING:tensorflow:From D:\\Programs\\Anaconda\\lib\\site-packages\\tensorflow\\python\\ops\\math_grad.py:102: div (from tensorflow.python.ops.math_ops) is deprecated and will be removed in a future version.\n",
      "Instructions for updating:\n",
      "Deprecated in favor of operator or tf.math.divide.\n",
      "Epoch 1/1\n"
     ]
    },
    {
     "name": "stdout",
     "output_type": "stream",
     "text": [
      " 2800/10000 [=======>......................] - ETA: 26:18 - loss: 24.0063 - dense_3_loss: 2.4034 - dense_3_acc: 0.0000e+00 - dense_3_acc_1: 0.0000e+00 - dense_3_acc_2: 0.0000e+00 - dense_3_acc_3: 0.0700 - dense_3_acc_4: 0.0200 - dense_3_acc_5: 0.0000e+00 - dense_3_acc_6: 0.0400 - dense_3_acc_7: 0.0200 - dense_3_acc_8: 0.0000e+00 - dense_3_acc_9: 0.09 - ETA: 13:07 - loss: 23.8017 - dense_3_loss: 2.4015 - dense_3_acc: 0.0000e+00 - dense_3_acc_1: 0.0000e+00 - dense_3_acc_2: 0.0050 - dense_3_acc_3: 0.0400 - dense_3_acc_4: 0.5000 - dense_3_acc_5: 0.0100 - dense_3_acc_6: 0.0200 - dense_3_acc_7: 0.5000 - dense_3_acc_8: 0.0050 - dense_3_acc_9: 0.0450           - ETA: 8:43 - loss: 23.5920 - dense_3_loss: 2.4052 - dense_3_acc: 0.0000e+00 - dense_3_acc_1: 0.0000e+00 - dense_3_acc_2: 0.0033 - dense_3_acc_3: 0.0267 - dense_3_acc_4: 0.6667 - dense_3_acc_5: 0.0067 - dense_3_acc_6: 0.0133 - dense_3_acc_7: 0.6667 - dense_3_acc_8: 0.0033 - dense_3_acc_9: 0.0300 - ETA: 6:31 - loss: 23.3428 - dense_3_loss: 2.4413 - dense_3_acc: 0.0000e+00 - dense_3_acc_1: 0.0000e+00 - dense_3_acc_2: 0.0025 - dense_3_acc_3: 0.0200 - dense_3_acc_4: 0.7500 - dense_3_acc_5: 0.0050 - dense_3_acc_6: 0.0100 - dense_3_acc_7: 0.7500 - dense_3_acc_8: 0.0025 - dense_3_acc_9: 0.022 - ETA: 5:12 - loss: 23.0693 - dense_3_loss: 2.5041 - dense_3_acc: 0.0000e+00 - dense_3_acc_1: 0.0000e+00 - dense_3_acc_2: 0.0020 - dense_3_acc_3: 0.0160 - dense_3_acc_4: 0.8000 - dense_3_acc_5: 0.0040 - dense_3_acc_6: 0.0080 - dense_3_acc_7: 0.8000 - dense_3_acc_8: 0.0020 - dense_3_acc_9: 0.018 - ETA: 4:19 - loss: 22.9255 - dense_3_loss: 2.6517 - dense_3_acc: 0.0000e+00 - dense_3_acc_1: 0.0000e+00 - dense_3_acc_2: 0.0017 - dense_3_acc_3: 0.0133 - dense_3_acc_4: 0.8333 - dense_3_acc_5: 0.0033 - dense_3_acc_6: 0.0067 - dense_3_acc_7: 0.8333 - dense_3_acc_8: 0.0017 - dense_3_acc_9: 0.015 - ETA: 3:41 - loss: 22.7632 - dense_3_loss: 2.7210 - dense_3_acc: 0.0000e+00 - dense_3_acc_1: 0.0000e+00 - dense_3_acc_2: 0.0014 - dense_3_acc_3: 0.0114 - dense_3_acc_4: 0.8571 - dense_3_acc_5: 0.0029 - dense_3_acc_6: 0.0057 - dense_3_acc_7: 0.8557 - dense_3_acc_8: 0.0014 - dense_3_acc_9: 0.012 - ETA: 3:12 - loss: 22.6596 - dense_3_loss: 2.7779 - dense_3_acc: 0.0000e+00 - dense_3_acc_1: 0.0512 - dense_3_acc_2: 0.0350 - dense_3_acc_3: 0.0213 - dense_3_acc_4: 0.7500 - dense_3_acc_5: 0.1000 - dense_3_acc_6: 0.0137 - dense_3_acc_7: 0.7488 - dense_3_acc_8: 0.0400 - dense_3_acc_9: 0.0250    - ETA: 2:50 - loss: 22.5735 - dense_3_loss: 2.8197 - dense_3_acc: 0.0000e+00 - dense_3_acc_1: 0.0800 - dense_3_acc_2: 0.0511 - dense_3_acc_3: 0.0333 - dense_3_acc_4: 0.6667 - dense_3_acc_5: 0.1700 - dense_3_acc_6: 0.0211 - dense_3_acc_7: 0.6656 - dense_3_acc_8: 0.0667 - dense_3_acc_9: 0.028 - ETA: 2:32 - loss: 22.4530 - dense_3_loss: 2.8216 - dense_3_acc: 0.0000e+00 - dense_3_acc_1: 0.0970 - dense_3_acc_2: 0.0590 - dense_3_acc_3: 0.0330 - dense_3_acc_4: 0.6850 - dense_3_acc_5: 0.1640 - dense_3_acc_6: 0.0190 - dense_3_acc_7: 0.6890 - dense_3_acc_8: 0.0610 - dense_3_acc_9: 0.027 - ETA: 2:18 - loss: 22.3790 - dense_3_loss: 2.8280 - dense_3_acc: 0.0000e+00 - dense_3_acc_1: 0.0891 - dense_3_acc_2: 0.0536 - dense_3_acc_3: 0.0300 - dense_3_acc_4: 0.7136 - dense_3_acc_5: 0.1491 - dense_3_acc_6: 0.0173 - dense_3_acc_7: 0.7173 - dense_3_acc_8: 0.0555 - dense_3_acc_9: 0.024 - ETA: 2:06 - loss: 22.3052 - dense_3_loss: 2.8248 - dense_3_acc: 0.0000e+00 - dense_3_acc_1: 0.0817 - dense_3_acc_2: 0.0492 - dense_3_acc_3: 0.0275 - dense_3_acc_4: 0.7375 - dense_3_acc_5: 0.1367 - dense_3_acc_6: 0.0158 - dense_3_acc_7: 0.7408 - dense_3_acc_8: 0.0508 - dense_3_acc_9: 0.022 - ETA: 1:56 - loss: 22.2382 - dense_3_loss: 2.8191 - dense_3_acc: 0.0000e+00 - dense_3_acc_1: 0.0754 - dense_3_acc_2: 0.0454 - dense_3_acc_3: 0.0254 - dense_3_acc_4: 0.7577 - dense_3_acc_5: 0.1262 - dense_3_acc_6: 0.0146 - dense_3_acc_7: 0.7608 - dense_3_acc_8: 0.0469 - dense_3_acc_9: 0.020 - ETA: 1:47 - loss: 22.1719 - dense_3_loss: 2.8159 - dense_3_acc: 0.0000e+00 - dense_3_acc_1: 0.0700 - dense_3_acc_2: 0.0421 - dense_3_acc_3: 0.0236 - dense_3_acc_4: 0.7750 - dense_3_acc_5: 0.1171 - dense_3_acc_6: 0.0136 - dense_3_acc_7: 0.7779 - dense_3_acc_8: 0.0436 - dense_3_acc_9: 0.019 - ETA: 1:39 - loss: 22.1128 - dense_3_loss: 2.8186 - dense_3_acc: 0.0000e+00 - dense_3_acc_1: 0.0653 - dense_3_acc_2: 0.0393 - dense_3_acc_3: 0.0220 - dense_3_acc_4: 0.7900 - dense_3_acc_5: 0.1093 - dense_3_acc_6: 0.0127 - dense_3_acc_7: 0.7927 - dense_3_acc_8: 0.0407 - dense_3_acc_9: 0.018 - ETA: 1:32 - loss: 22.0529 - dense_3_loss: 2.8134 - dense_3_acc: 0.0000e+00 - dense_3_acc_1: 0.0825 - dense_3_acc_2: 0.0369 - dense_3_acc_3: 0.0206 - dense_3_acc_4: 0.8031 - dense_3_acc_5: 0.1025 - dense_3_acc_6: 0.0119 - dense_3_acc_7: 0.8056 - dense_3_acc_8: 0.0381 - dense_3_acc_9: 0.016 - ETA: 1:27 - loss: 22.0019 - dense_3_loss: 2.8141 - dense_3_acc: 0.0000e+00 - dense_3_acc_1: 0.0988 - dense_3_acc_2: 0.0400 - dense_3_acc_3: 0.0212 - dense_3_acc_4: 0.8147 - dense_3_acc_5: 0.0965 - dense_3_acc_6: 0.0112 - dense_3_acc_7: 0.8171 - dense_3_acc_8: 0.0359 - dense_3_acc_9: 0.015 - ETA: 1:21 - loss: 21.9503 - dense_3_loss: 2.8139 - dense_3_acc: 0.0000e+00 - dense_3_acc_1: 0.1167 - dense_3_acc_2: 0.0494 - dense_3_acc_3: 0.0261 - dense_3_acc_4: 0.7750 - dense_3_acc_5: 0.1272 - dense_3_acc_6: 0.0111 - dense_3_acc_7: 0.8033 - dense_3_acc_8: 0.0383 - dense_3_acc_9: 0.017 - ETA: 1:16 - loss: 21.9050 - dense_3_loss: 2.8172 - dense_3_acc: 0.0000e+00 - dense_3_acc_1: 0.1295 - dense_3_acc_2: 0.0558 - dense_3_acc_3: 0.0284 - dense_3_acc_4: 0.7358 - dense_3_acc_5: 0.1579 - dense_3_acc_6: 0.0126 - dense_3_acc_7: 0.7726 - dense_3_acc_8: 0.0484 - dense_3_acc_9: 0.020 - ETA: 1:12 - loss: 21.8584 - dense_3_loss: 2.8117 - dense_3_acc: 0.0000e+00 - dense_3_acc_1: 0.1360 - dense_3_acc_2: 0.0580 - dense_3_acc_3: 0.0285 - dense_3_acc_4: 0.7410 - dense_3_acc_5: 0.1500 - dense_3_acc_6: 0.0120 - dense_3_acc_7: 0.7840 - dense_3_acc_8: 0.0460 - dense_3_acc_9: 0.019 - ETA: 1:08 - loss: 21.8158 - dense_3_loss: 2.8203 - dense_3_acc: 0.0000e+00 - dense_3_acc_1: 0.1295 - dense_3_acc_2: 0.0676 - dense_3_acc_3: 0.0271 - dense_3_acc_4: 0.7533 - dense_3_acc_5: 0.1429 - dense_3_acc_6: 0.0114 - dense_3_acc_7: 0.7943 - dense_3_acc_8: 0.0438 - dense_3_acc_9: 0.018 - ETA: 1:05 - loss: 21.7652 - dense_3_loss: 2.8258 - dense_3_acc: 0.0000e+00 - dense_3_acc_1: 0.1236 - dense_3_acc_2: 0.0718 - dense_3_acc_3: 0.0259 - dense_3_acc_4: 0.7645 - dense_3_acc_5: 0.1364 - dense_3_acc_6: 0.0109 - dense_3_acc_7: 0.8036 - dense_3_acc_8: 0.0418 - dense_3_acc_9: 0.017 - ETA: 1:02 - loss: 21.7140 - dense_3_loss: 2.8313 - dense_3_acc: 0.0000e+00 - dense_3_acc_1: 0.1448 - dense_3_acc_2: 0.0774 - dense_3_acc_3: 0.0248 - dense_3_acc_4: 0.7748 - dense_3_acc_5: 0.1304 - dense_3_acc_6: 0.0104 - dense_3_acc_7: 0.8122 - dense_3_acc_8: 0.0400 - dense_3_acc_9: 0.017 - ETA: 59s - loss: 21.6584 - dense_3_loss: 2.8300 - dense_3_acc: 0.0000e+00 - dense_3_acc_1: 0.1654 - dense_3_acc_2: 0.0833 - dense_3_acc_3: 0.0237 - dense_3_acc_4: 0.7842 - dense_3_acc_5: 0.1250 - dense_3_acc_6: 0.0100 - dense_3_acc_7: 0.8200 - dense_3_acc_8: 0.0383 - dense_3_acc_9: 0.016 - ETA: 56s - loss: 21.6010 - dense_3_loss: 2.8294 - dense_3_acc: 0.0000e+00 - dense_3_acc_1: 0.1852 - dense_3_acc_2: 0.0892 - dense_3_acc_3: 0.0260 - dense_3_acc_4: 0.7928 - dense_3_acc_5: 0.1200 - dense_3_acc_6: 0.0096 - dense_3_acc_7: 0.8272 - dense_3_acc_8: 0.0368 - dense_3_acc_9: 0.01 - ETA: 53s - loss: 21.5436 - dense_3_loss: 2.8266 - dense_3_acc: 0.0000e+00 - dense_3_acc_1: 0.2019 - dense_3_acc_2: 0.0950 - dense_3_acc_3: 0.0315 - dense_3_acc_4: 0.7862 - dense_3_acc_5: 0.1154 - dense_3_acc_6: 0.0092 - dense_3_acc_7: 0.8338 - dense_3_acc_8: 0.0354 - dense_3_acc_9: 0.01 - ETA: 51s - loss: 21.4946 - dense_3_loss: 2.8250 - dense_3_acc: 0.0000e+00 - dense_3_acc_1: 0.2181 - dense_3_acc_2: 0.0996 - dense_3_acc_3: 0.0344 - dense_3_acc_4: 0.7796 - dense_3_acc_5: 0.1111 - dense_3_acc_6: 0.0089 - dense_3_acc_7: 0.8400 - dense_3_acc_8: 0.0341 - dense_3_acc_9: 0.01 - ETA: 49s - loss: 21.4309 - dense_3_loss: 2.8208 - dense_3_acc: 0.0000e+00 - dense_3_acc_1: 0.2350 - dense_3_acc_2: 0.1089 - dense_3_acc_3: 0.0364 - dense_3_acc_4: 0.7875 - dense_3_acc_5: 0.1071 - dense_3_acc_6: 0.0086 - dense_3_acc_7: 0.8457 - dense_3_acc_8: 0.0329 - dense_3_acc_9: 0.0139"
     ]
    },
    {
     "name": "stdout",
     "output_type": "stream",
     "text": [
      " 5700/10000 [================>.............] - ETA: 47s - loss: 21.3789 - dense_3_loss: 2.8174 - dense_3_acc: 0.0000e+00 - dense_3_acc_1: 0.2459 - dense_3_acc_2: 0.1121 - dense_3_acc_3: 0.0366 - dense_3_acc_4: 0.7948 - dense_3_acc_5: 0.1034 - dense_3_acc_6: 0.0083 - dense_3_acc_7: 0.8510 - dense_3_acc_8: 0.0317 - dense_3_acc_9: 0.01 - ETA: 45s - loss: 21.3351 - dense_3_loss: 2.8158 - dense_3_acc: 0.0000e+00 - dense_3_acc_1: 0.2563 - dense_3_acc_2: 0.1140 - dense_3_acc_3: 0.0353 - dense_3_acc_4: 0.8017 - dense_3_acc_5: 0.1000 - dense_3_acc_6: 0.0080 - dense_3_acc_7: 0.8523 - dense_3_acc_8: 0.0420 - dense_3_acc_9: 0.01 - ETA: 43s - loss: 21.2708 - dense_3_loss: 2.8105 - dense_3_acc: 0.0000e+00 - dense_3_acc_1: 0.2697 - dense_3_acc_2: 0.1184 - dense_3_acc_3: 0.0342 - dense_3_acc_4: 0.8081 - dense_3_acc_5: 0.0968 - dense_3_acc_6: 0.0077 - dense_3_acc_7: 0.8565 - dense_3_acc_8: 0.0523 - dense_3_acc_9: 0.02 - ETA: 41s - loss: 21.2161 - dense_3_loss: 2.8104 - dense_3_acc: 0.0000e+00 - dense_3_acc_1: 0.2806 - dense_3_acc_2: 0.1231 - dense_3_acc_3: 0.0331 - dense_3_acc_4: 0.8141 - dense_3_acc_5: 0.0937 - dense_3_acc_6: 0.0075 - dense_3_acc_7: 0.8609 - dense_3_acc_8: 0.0522 - dense_3_acc_9: 0.02 - ETA: 40s - loss: 21.1619 - dense_3_loss: 2.8068 - dense_3_acc: 0.0000e+00 - dense_3_acc_1: 0.2903 - dense_3_acc_2: 0.1276 - dense_3_acc_3: 0.0348 - dense_3_acc_4: 0.8197 - dense_3_acc_5: 0.0909 - dense_3_acc_6: 0.0073 - dense_3_acc_7: 0.8652 - dense_3_acc_8: 0.0515 - dense_3_acc_9: 0.02 - ETA: 38s - loss: 21.1071 - dense_3_loss: 2.8083 - dense_3_acc: 0.0000e+00 - dense_3_acc_1: 0.2979 - dense_3_acc_2: 0.1306 - dense_3_acc_3: 0.0368 - dense_3_acc_4: 0.8250 - dense_3_acc_5: 0.0882 - dense_3_acc_6: 0.0071 - dense_3_acc_7: 0.8688 - dense_3_acc_8: 0.0579 - dense_3_acc_9: 0.03 - ETA: 37s - loss: 21.0538 - dense_3_loss: 2.8111 - dense_3_acc: 0.0166 - dense_3_acc_1: 0.3060 - dense_3_acc_2: 0.1323 - dense_3_acc_3: 0.0394 - dense_3_acc_4: 0.8300 - dense_3_acc_5: 0.0857 - dense_3_acc_6: 0.0069 - dense_3_acc_7: 0.8694 - dense_3_acc_8: 0.0657 - dense_3_acc_9: 0.0317   - ETA: 35s - loss: 20.9990 - dense_3_loss: 2.8138 - dense_3_acc: 0.0308 - dense_3_acc_1: 0.3122 - dense_3_acc_2: 0.1358 - dense_3_acc_3: 0.0403 - dense_3_acc_4: 0.8347 - dense_3_acc_5: 0.0833 - dense_3_acc_6: 0.0067 - dense_3_acc_7: 0.8731 - dense_3_acc_8: 0.0736 - dense_3_acc_9: 0.03 - ETA: 34s - loss: 20.9397 - dense_3_loss: 2.8148 - dense_3_acc: 0.0459 - dense_3_acc_1: 0.3197 - dense_3_acc_2: 0.1378 - dense_3_acc_3: 0.0392 - dense_3_acc_4: 0.8392 - dense_3_acc_5: 0.0811 - dense_3_acc_6: 0.0065 - dense_3_acc_7: 0.8765 - dense_3_acc_8: 0.0773 - dense_3_acc_9: 0.03 - ETA: 33s - loss: 20.8785 - dense_3_loss: 2.8121 - dense_3_acc: 0.0613 - dense_3_acc_1: 0.3279 - dense_3_acc_2: 0.1413 - dense_3_acc_3: 0.0397 - dense_3_acc_4: 0.8434 - dense_3_acc_5: 0.0789 - dense_3_acc_6: 0.0063 - dense_3_acc_7: 0.8792 - dense_3_acc_8: 0.0800 - dense_3_acc_9: 0.03 - ETA: 31s - loss: 20.8226 - dense_3_loss: 2.8106 - dense_3_acc: 0.0728 - dense_3_acc_1: 0.3326 - dense_3_acc_2: 0.1469 - dense_3_acc_3: 0.0426 - dense_3_acc_4: 0.8474 - dense_3_acc_5: 0.0769 - dense_3_acc_6: 0.0062 - dense_3_acc_7: 0.8772 - dense_3_acc_8: 0.0872 - dense_3_acc_9: 0.04 - ETA: 30s - loss: 20.7655 - dense_3_loss: 2.8139 - dense_3_acc: 0.0852 - dense_3_acc_1: 0.3385 - dense_3_acc_2: 0.1503 - dense_3_acc_3: 0.0440 - dense_3_acc_4: 0.8513 - dense_3_acc_5: 0.0750 - dense_3_acc_6: 0.0060 - dense_3_acc_7: 0.8803 - dense_3_acc_8: 0.0870 - dense_3_acc_9: 0.04 - ETA: 29s - loss: 20.7067 - dense_3_loss: 2.8134 - dense_3_acc: 0.1002 - dense_3_acc_1: 0.3473 - dense_3_acc_2: 0.1510 - dense_3_acc_3: 0.0449 - dense_3_acc_4: 0.8549 - dense_3_acc_5: 0.0732 - dense_3_acc_6: 0.0059 - dense_3_acc_7: 0.8832 - dense_3_acc_8: 0.0883 - dense_3_acc_9: 0.04 - ETA: 28s - loss: 20.6461 - dense_3_loss: 2.8142 - dense_3_acc: 0.1133 - dense_3_acc_1: 0.3545 - dense_3_acc_2: 0.1555 - dense_3_acc_3: 0.0445 - dense_3_acc_4: 0.8583 - dense_3_acc_5: 0.0714 - dense_3_acc_6: 0.0057 - dense_3_acc_7: 0.8860 - dense_3_acc_8: 0.0955 - dense_3_acc_9: 0.04 - ETA: 27s - loss: 20.5929 - dense_3_loss: 2.8093 - dense_3_acc: 0.1242 - dense_3_acc_1: 0.3598 - dense_3_acc_2: 0.1565 - dense_3_acc_3: 0.0435 - dense_3_acc_4: 0.8616 - dense_3_acc_5: 0.0698 - dense_3_acc_6: 0.0056 - dense_3_acc_7: 0.8881 - dense_3_acc_8: 0.0988 - dense_3_acc_9: 0.04 - ETA: 26s - loss: 20.5450 - dense_3_loss: 2.8073 - dense_3_acc: 0.1336 - dense_3_acc_1: 0.3639 - dense_3_acc_2: 0.1570 - dense_3_acc_3: 0.0425 - dense_3_acc_4: 0.8648 - dense_3_acc_5: 0.0682 - dense_3_acc_6: 0.0055 - dense_3_acc_7: 0.8891 - dense_3_acc_8: 0.1007 - dense_3_acc_9: 0.04 - ETA: 25s - loss: 20.4828 - dense_3_loss: 2.8053 - dense_3_acc: 0.1449 - dense_3_acc_1: 0.3700 - dense_3_acc_2: 0.1604 - dense_3_acc_3: 0.0416 - dense_3_acc_4: 0.8678 - dense_3_acc_5: 0.0667 - dense_3_acc_6: 0.0053 - dense_3_acc_7: 0.8916 - dense_3_acc_8: 0.1033 - dense_3_acc_9: 0.05 - ETA: 25s - loss: 20.4227 - dense_3_loss: 2.8040 - dense_3_acc: 0.1550 - dense_3_acc_1: 0.3752 - dense_3_acc_2: 0.1613 - dense_3_acc_3: 0.0407 - dense_3_acc_4: 0.8707 - dense_3_acc_5: 0.0652 - dense_3_acc_6: 0.0052 - dense_3_acc_7: 0.8841 - dense_3_acc_8: 0.1074 - dense_3_acc_9: 0.05 - ETA: 24s - loss: 20.3669 - dense_3_loss: 2.8025 - dense_3_acc: 0.1621 - dense_3_acc_1: 0.3777 - dense_3_acc_2: 0.1651 - dense_3_acc_3: 0.0423 - dense_3_acc_4: 0.8734 - dense_3_acc_5: 0.0638 - dense_3_acc_6: 0.0062 - dense_3_acc_7: 0.8674 - dense_3_acc_8: 0.1126 - dense_3_acc_9: 0.05 - ETA: 23s - loss: 20.3082 - dense_3_loss: 2.8010 - dense_3_acc: 0.1731 - dense_3_acc_1: 0.3842 - dense_3_acc_2: 0.1673 - dense_3_acc_3: 0.0440 - dense_3_acc_4: 0.8760 - dense_3_acc_5: 0.0625 - dense_3_acc_6: 0.0065 - dense_3_acc_7: 0.8527 - dense_3_acc_8: 0.1144 - dense_3_acc_9: 0.05 - ETA: 22s - loss: 20.2586 - dense_3_loss: 2.8031 - dense_3_acc: 0.1812 - dense_3_acc_1: 0.3880 - dense_3_acc_2: 0.1692 - dense_3_acc_3: 0.0441 - dense_3_acc_4: 0.8786 - dense_3_acc_5: 0.0612 - dense_3_acc_6: 0.0063 - dense_3_acc_7: 0.8471 - dense_3_acc_8: 0.1192 - dense_3_acc_9: 0.05 - ETA: 21s - loss: 20.2002 - dense_3_loss: 2.8034 - dense_3_acc: 0.1918 - dense_3_acc_1: 0.3944 - dense_3_acc_2: 0.1710 - dense_3_acc_3: 0.0432 - dense_3_acc_4: 0.8810 - dense_3_acc_5: 0.0600 - dense_3_acc_6: 0.0062 - dense_3_acc_7: 0.8476 - dense_3_acc_8: 0.1238 - dense_3_acc_9: 0.05 - ETA: 21s - loss: 20.1449 - dense_3_loss: 2.7996 - dense_3_acc: 0.1986 - dense_3_acc_1: 0.3973 - dense_3_acc_2: 0.1727 - dense_3_acc_3: 0.0424 - dense_3_acc_4: 0.8833 - dense_3_acc_5: 0.0588 - dense_3_acc_6: 0.0061 - dense_3_acc_7: 0.8482 - dense_3_acc_8: 0.1273 - dense_3_acc_9: 0.05 - ETA: 20s - loss: 20.0868 - dense_3_loss: 2.7943 - dense_3_acc: 0.2060 - dense_3_acc_1: 0.4012 - dense_3_acc_2: 0.1775 - dense_3_acc_3: 0.0415 - dense_3_acc_4: 0.8856 - dense_3_acc_5: 0.0577 - dense_3_acc_6: 0.0060 - dense_3_acc_7: 0.8475 - dense_3_acc_8: 0.1323 - dense_3_acc_9: 0.05 - ETA: 19s - loss: 20.0291 - dense_3_loss: 2.7923 - dense_3_acc: 0.2140 - dense_3_acc_1: 0.4072 - dense_3_acc_2: 0.1800 - dense_3_acc_3: 0.0432 - dense_3_acc_4: 0.8877 - dense_3_acc_5: 0.0592 - dense_3_acc_6: 0.0058 - dense_3_acc_7: 0.8487 - dense_3_acc_8: 0.1328 - dense_3_acc_9: 0.05 - ETA: 19s - loss: 19.9725 - dense_3_loss: 2.7897 - dense_3_acc: 0.2237 - dense_3_acc_1: 0.4146 - dense_3_acc_2: 0.1839 - dense_3_acc_3: 0.0452 - dense_3_acc_4: 0.8898 - dense_3_acc_5: 0.0611 - dense_3_acc_6: 0.0059 - dense_3_acc_7: 0.8498 - dense_3_acc_8: 0.1333 - dense_3_acc_9: 0.06 - ETA: 18s - loss: 19.9141 - dense_3_loss: 2.7873 - dense_3_acc: 0.2305 - dense_3_acc_1: 0.4187 - dense_3_acc_2: 0.1864 - dense_3_acc_3: 0.0471 - dense_3_acc_4: 0.8918 - dense_3_acc_5: 0.0651 - dense_3_acc_6: 0.0058 - dense_3_acc_7: 0.8504 - dense_3_acc_8: 0.1367 - dense_3_acc_9: 0.06 - ETA: 17s - loss: 19.8538 - dense_3_loss: 2.7839 - dense_3_acc: 0.2357 - dense_3_acc_1: 0.4209 - dense_3_acc_2: 0.1888 - dense_3_acc_3: 0.0468 - dense_3_acc_4: 0.8938 - dense_3_acc_5: 0.0671 - dense_3_acc_6: 0.0057 - dense_3_acc_7: 0.8530 - dense_3_acc_8: 0.1371 - dense_3_acc_9: 0.06 - ETA: 17s - loss: 19.7973 - dense_3_loss: 2.7809 - dense_3_acc: 0.2423 - dense_3_acc_1: 0.4244 - dense_3_acc_2: 0.1893 - dense_3_acc_3: 0.0470 - dense_3_acc_4: 0.8956 - dense_3_acc_5: 0.0684 - dense_3_acc_6: 0.0056 - dense_3_acc_7: 0.8556 - dense_3_acc_8: 0.1356 - dense_3_acc_9: 0.0658"
     ]
    },
    {
     "name": "stdout",
     "output_type": "stream",
     "text": [
      " 8600/10000 [========================>.....] - ETA: 16s - loss: 19.7382 - dense_3_loss: 2.7773 - dense_3_acc: 0.2497 - dense_3_acc_1: 0.4307 - dense_3_acc_2: 0.1909 - dense_3_acc_3: 0.0462 - dense_3_acc_4: 0.8974 - dense_3_acc_5: 0.0783 - dense_3_acc_6: 0.0055 - dense_3_acc_7: 0.8581 - dense_3_acc_8: 0.1378 - dense_3_acc_9: 0.06 - ETA: 16s - loss: 19.6813 - dense_3_loss: 2.7753 - dense_3_acc: 0.2566 - dense_3_acc_1: 0.4386 - dense_3_acc_2: 0.1949 - dense_3_acc_3: 0.0464 - dense_3_acc_4: 0.8992 - dense_3_acc_5: 0.0907 - dense_3_acc_6: 0.0059 - dense_3_acc_7: 0.8605 - dense_3_acc_8: 0.1378 - dense_3_acc_9: 0.06 - ETA: 15s - loss: 19.6237 - dense_3_loss: 2.7719 - dense_3_acc: 0.2645 - dense_3_acc_1: 0.4455 - dense_3_acc_2: 0.1983 - dense_3_acc_3: 0.0477 - dense_3_acc_4: 0.9008 - dense_3_acc_5: 0.0995 - dense_3_acc_6: 0.0077 - dense_3_acc_7: 0.8627 - dense_3_acc_8: 0.1378 - dense_3_acc_9: 0.06 - ETA: 14s - loss: 19.5655 - dense_3_loss: 2.7677 - dense_3_acc: 0.2710 - dense_3_acc_1: 0.4515 - dense_3_acc_2: 0.2007 - dense_3_acc_3: 0.0493 - dense_3_acc_4: 0.9025 - dense_3_acc_5: 0.1092 - dense_3_acc_6: 0.0092 - dense_3_acc_7: 0.8649 - dense_3_acc_8: 0.1384 - dense_3_acc_9: 0.07 - ETA: 14s - loss: 19.5024 - dense_3_loss: 2.7624 - dense_3_acc: 0.2766 - dense_3_acc_1: 0.4573 - dense_3_acc_2: 0.2039 - dense_3_acc_3: 0.0494 - dense_3_acc_4: 0.9040 - dense_3_acc_5: 0.1187 - dense_3_acc_6: 0.0090 - dense_3_acc_7: 0.8671 - dense_3_acc_8: 0.1421 - dense_3_acc_9: 0.07 - ETA: 13s - loss: 19.4397 - dense_3_loss: 2.7584 - dense_3_acc: 0.2843 - dense_3_acc_1: 0.4633 - dense_3_acc_2: 0.2063 - dense_3_acc_3: 0.0487 - dense_3_acc_4: 0.9056 - dense_3_acc_5: 0.1292 - dense_3_acc_6: 0.0089 - dense_3_acc_7: 0.8692 - dense_3_acc_8: 0.1448 - dense_3_acc_9: 0.07 - ETA: 13s - loss: 19.3756 - dense_3_loss: 2.7568 - dense_3_acc: 0.2909 - dense_3_acc_1: 0.4692 - dense_3_acc_2: 0.2097 - dense_3_acc_3: 0.0494 - dense_3_acc_4: 0.9070 - dense_3_acc_5: 0.1372 - dense_3_acc_6: 0.0091 - dense_3_acc_7: 0.8713 - dense_3_acc_8: 0.1466 - dense_3_acc_9: 0.07 - ETA: 12s - loss: 19.3138 - dense_3_loss: 2.7569 - dense_3_acc: 0.2985 - dense_3_acc_1: 0.4762 - dense_3_acc_2: 0.2138 - dense_3_acc_3: 0.0498 - dense_3_acc_4: 0.9085 - dense_3_acc_5: 0.1469 - dense_3_acc_6: 0.0089 - dense_3_acc_7: 0.8732 - dense_3_acc_8: 0.1482 - dense_3_acc_9: 0.07 - ETA: 12s - loss: 19.2485 - dense_3_loss: 2.7531 - dense_3_acc: 0.3064 - dense_3_acc_1: 0.4830 - dense_3_acc_2: 0.2161 - dense_3_acc_3: 0.0509 - dense_3_acc_4: 0.9098 - dense_3_acc_5: 0.1573 - dense_3_acc_6: 0.0091 - dense_3_acc_7: 0.8752 - dense_3_acc_8: 0.1503 - dense_3_acc_9: 0.07 - ETA: 11s - loss: 19.1848 - dense_3_loss: 2.7486 - dense_3_acc: 0.3127 - dense_3_acc_1: 0.4894 - dense_3_acc_2: 0.2184 - dense_3_acc_3: 0.0510 - dense_3_acc_4: 0.9112 - dense_3_acc_5: 0.1661 - dense_3_acc_6: 0.0096 - dense_3_acc_7: 0.8770 - dense_3_acc_8: 0.1527 - dense_3_acc_9: 0.07 - ETA: 11s - loss: 19.1229 - dense_3_loss: 2.7456 - dense_3_acc: 0.3178 - dense_3_acc_1: 0.4956 - dense_3_acc_2: 0.2201 - dense_3_acc_3: 0.0509 - dense_3_acc_4: 0.9125 - dense_3_acc_5: 0.1747 - dense_3_acc_6: 0.0097 - dense_3_acc_7: 0.8788 - dense_3_acc_8: 0.1553 - dense_3_acc_9: 0.07 - ETA: 10s - loss: 19.0571 - dense_3_loss: 2.7426 - dense_3_acc: 0.3249 - dense_3_acc_1: 0.5012 - dense_3_acc_2: 0.2223 - dense_3_acc_3: 0.0512 - dense_3_acc_4: 0.9138 - dense_3_acc_5: 0.1830 - dense_3_acc_6: 0.0096 - dense_3_acc_7: 0.8806 - dense_3_acc_8: 0.1574 - dense_3_acc_9: 0.07 - ETA: 10s - loss: 18.9931 - dense_3_loss: 2.7397 - dense_3_acc: 0.3313 - dense_3_acc_1: 0.5067 - dense_3_acc_2: 0.2234 - dense_3_acc_3: 0.0523 - dense_3_acc_4: 0.9150 - dense_3_acc_5: 0.1923 - dense_3_acc_6: 0.0100 - dense_3_acc_7: 0.8823 - dense_3_acc_8: 0.1600 - dense_3_acc_9: 0.07 - ETA: 10s - loss: 18.9269 - dense_3_loss: 2.7392 - dense_3_acc: 0.3376 - dense_3_acc_1: 0.5117 - dense_3_acc_2: 0.2269 - dense_3_acc_3: 0.0525 - dense_3_acc_4: 0.9162 - dense_3_acc_5: 0.2006 - dense_3_acc_6: 0.0099 - dense_3_acc_7: 0.8839 - dense_3_acc_8: 0.1611 - dense_3_acc_9: 0.08 - ETA: 9s - loss: 18.8606 - dense_3_loss: 2.7379 - dense_3_acc: 0.3443 - dense_3_acc_1: 0.5171 - dense_3_acc_2: 0.2299 - dense_3_acc_3: 0.0526 - dense_3_acc_4: 0.9174 - dense_3_acc_5: 0.2079 - dense_3_acc_6: 0.0099 - dense_3_acc_7: 0.8856 - dense_3_acc_8: 0.1644 - dense_3_acc_9: 0.0812 - ETA: 9s - loss: 18.7887 - dense_3_loss: 2.7335 - dense_3_acc: 0.3499 - dense_3_acc_1: 0.5222 - dense_3_acc_2: 0.2321 - dense_3_acc_3: 0.0523 - dense_3_acc_4: 0.9185 - dense_3_acc_5: 0.2152 - dense_3_acc_6: 0.0103 - dense_3_acc_7: 0.8871 - dense_3_acc_8: 0.1679 - dense_3_acc_9: 0.083 - ETA: 8s - loss: 18.7165 - dense_3_loss: 2.7291 - dense_3_acc: 0.3557 - dense_3_acc_1: 0.5278 - dense_3_acc_2: 0.2339 - dense_3_acc_3: 0.0534 - dense_3_acc_4: 0.9196 - dense_3_acc_5: 0.2231 - dense_3_acc_6: 0.0109 - dense_3_acc_7: 0.8886 - dense_3_acc_8: 0.1722 - dense_3_acc_9: 0.084 - ETA: 8s - loss: 18.6440 - dense_3_loss: 2.7237 - dense_3_acc: 0.3616 - dense_3_acc_1: 0.5329 - dense_3_acc_2: 0.2367 - dense_3_acc_3: 0.0543 - dense_3_acc_4: 0.9207 - dense_3_acc_5: 0.2299 - dense_3_acc_6: 0.0111 - dense_3_acc_7: 0.8901 - dense_3_acc_8: 0.1756 - dense_3_acc_9: 0.085 - ETA: 8s - loss: 18.5686 - dense_3_loss: 2.7194 - dense_3_acc: 0.3687 - dense_3_acc_1: 0.5380 - dense_3_acc_2: 0.2376 - dense_3_acc_3: 0.0550 - dense_3_acc_4: 0.9217 - dense_3_acc_5: 0.2364 - dense_3_acc_6: 0.0117 - dense_3_acc_7: 0.8916 - dense_3_acc_8: 0.1783 - dense_3_acc_9: 0.087 - ETA: 7s - loss: 18.4931 - dense_3_loss: 2.7159 - dense_3_acc: 0.3736 - dense_3_acc_1: 0.5422 - dense_3_acc_2: 0.2406 - dense_3_acc_3: 0.0561 - dense_3_acc_4: 0.9227 - dense_3_acc_5: 0.2430 - dense_3_acc_6: 0.0126 - dense_3_acc_7: 0.8930 - dense_3_acc_8: 0.1813 - dense_3_acc_9: 0.087 - ETA: 7s - loss: 18.4127 - dense_3_loss: 2.7103 - dense_3_acc: 0.3799 - dense_3_acc_1: 0.5469 - dense_3_acc_2: 0.2431 - dense_3_acc_3: 0.0567 - dense_3_acc_4: 0.9237 - dense_3_acc_5: 0.2497 - dense_3_acc_6: 0.0132 - dense_3_acc_7: 0.8944 - dense_3_acc_8: 0.1847 - dense_3_acc_9: 0.089 - ETA: 6s - loss: 18.3337 - dense_3_loss: 2.7058 - dense_3_acc: 0.3872 - dense_3_acc_1: 0.5519 - dense_3_acc_2: 0.2461 - dense_3_acc_3: 0.0573 - dense_3_acc_4: 0.9247 - dense_3_acc_5: 0.2546 - dense_3_acc_6: 0.0147 - dense_3_acc_7: 0.8957 - dense_3_acc_8: 0.1872 - dense_3_acc_9: 0.090 - ETA: 6s - loss: 18.2586 - dense_3_loss: 2.7013 - dense_3_acc: 0.3932 - dense_3_acc_1: 0.5568 - dense_3_acc_2: 0.2474 - dense_3_acc_3: 0.0580 - dense_3_acc_4: 0.9256 - dense_3_acc_5: 0.2606 - dense_3_acc_6: 0.0161 - dense_3_acc_7: 0.8970 - dense_3_acc_8: 0.1907 - dense_3_acc_9: 0.091 - ETA: 6s - loss: 18.1833 - dense_3_loss: 2.6967 - dense_3_acc: 0.3985 - dense_3_acc_1: 0.5606 - dense_3_acc_2: 0.2488 - dense_3_acc_3: 0.0594 - dense_3_acc_4: 0.9265 - dense_3_acc_5: 0.2667 - dense_3_acc_6: 0.0177 - dense_3_acc_7: 0.8983 - dense_3_acc_8: 0.1942 - dense_3_acc_9: 0.092 - ETA: 5s - loss: 18.1083 - dense_3_loss: 2.6922 - dense_3_acc: 0.4037 - dense_3_acc_1: 0.5645 - dense_3_acc_2: 0.2496 - dense_3_acc_3: 0.0596 - dense_3_acc_4: 0.9274 - dense_3_acc_5: 0.2733 - dense_3_acc_6: 0.0183 - dense_3_acc_7: 0.8995 - dense_3_acc_8: 0.1976 - dense_3_acc_9: 0.093 - ETA: 5s - loss: 18.0310 - dense_3_loss: 2.6875 - dense_3_acc: 0.4099 - dense_3_acc_1: 0.5693 - dense_3_acc_2: 0.2525 - dense_3_acc_3: 0.0606 - dense_3_acc_4: 0.9283 - dense_3_acc_5: 0.2792 - dense_3_acc_6: 0.0192 - dense_3_acc_7: 0.9007 - dense_3_acc_8: 0.2006 - dense_3_acc_9: 0.094 - ETA: 5s - loss: 17.9527 - dense_3_loss: 2.6833 - dense_3_acc: 0.4158 - dense_3_acc_1: 0.5735 - dense_3_acc_2: 0.2548 - dense_3_acc_3: 0.0612 - dense_3_acc_4: 0.9292 - dense_3_acc_5: 0.2845 - dense_3_acc_6: 0.0210 - dense_3_acc_7: 0.9019 - dense_3_acc_8: 0.2043 - dense_3_acc_9: 0.094 - ETA: 4s - loss: 17.8792 - dense_3_loss: 2.6791 - dense_3_acc: 0.4211 - dense_3_acc_1: 0.5772 - dense_3_acc_2: 0.2560 - dense_3_acc_3: 0.0612 - dense_3_acc_4: 0.9300 - dense_3_acc_5: 0.2900 - dense_3_acc_6: 0.0226 - dense_3_acc_7: 0.9031 - dense_3_acc_8: 0.2084 - dense_3_acc_9: 0.095 - ETA: 4s - loss: 17.8024 - dense_3_loss: 2.6743 - dense_3_acc: 0.4267 - dense_3_acc_1: 0.5813 - dense_3_acc_2: 0.2584 - dense_3_acc_3: 0.0609 - dense_3_acc_4: 0.9308 - dense_3_acc_5: 0.2956 - dense_3_acc_6: 0.0240 - dense_3_acc_7: 0.9042 - dense_3_acc_8: 0.2110 - dense_3_acc_9: 0.0957"
     ]
    },
    {
     "name": "stdout",
     "output_type": "stream",
     "text": [
      "10000/10000 [==============================] - ETA: 3s - loss: 17.7279 - dense_3_loss: 2.6699 - dense_3_acc: 0.4322 - dense_3_acc_1: 0.5852 - dense_3_acc_2: 0.2600 - dense_3_acc_3: 0.0618 - dense_3_acc_4: 0.9316 - dense_3_acc_5: 0.3009 - dense_3_acc_6: 0.0257 - dense_3_acc_7: 0.9053 - dense_3_acc_8: 0.2146 - dense_3_acc_9: 0.096 - ETA: 3s - loss: 17.6520 - dense_3_loss: 2.6651 - dense_3_acc: 0.4374 - dense_3_acc_1: 0.5891 - dense_3_acc_2: 0.2625 - dense_3_acc_3: 0.0618 - dense_3_acc_4: 0.9324 - dense_3_acc_5: 0.3072 - dense_3_acc_6: 0.0273 - dense_3_acc_7: 0.9064 - dense_3_acc_8: 0.2167 - dense_3_acc_9: 0.096 - ETA: 3s - loss: 17.5793 - dense_3_loss: 2.6607 - dense_3_acc: 0.4427 - dense_3_acc_1: 0.5926 - dense_3_acc_2: 0.2648 - dense_3_acc_3: 0.0620 - dense_3_acc_4: 0.9331 - dense_3_acc_5: 0.3122 - dense_3_acc_6: 0.0290 - dense_3_acc_7: 0.9074 - dense_3_acc_8: 0.2192 - dense_3_acc_9: 0.097 - ETA: 3s - loss: 17.5055 - dense_3_loss: 2.6567 - dense_3_acc: 0.4481 - dense_3_acc_1: 0.5967 - dense_3_acc_2: 0.2662 - dense_3_acc_3: 0.0623 - dense_3_acc_4: 0.9339 - dense_3_acc_5: 0.3180 - dense_3_acc_6: 0.0306 - dense_3_acc_7: 0.9084 - dense_3_acc_8: 0.2228 - dense_3_acc_9: 0.098 - ETA: 2s - loss: 17.4362 - dense_3_loss: 2.6532 - dense_3_acc: 0.4533 - dense_3_acc_1: 0.6004 - dense_3_acc_2: 0.2674 - dense_3_acc_3: 0.0632 - dense_3_acc_4: 0.9346 - dense_3_acc_5: 0.3225 - dense_3_acc_6: 0.0325 - dense_3_acc_7: 0.9095 - dense_3_acc_8: 0.2251 - dense_3_acc_9: 0.099 - ETA: 2s - loss: 17.3641 - dense_3_loss: 2.6493 - dense_3_acc: 0.4582 - dense_3_acc_1: 0.6039 - dense_3_acc_2: 0.2697 - dense_3_acc_3: 0.0636 - dense_3_acc_4: 0.9353 - dense_3_acc_5: 0.3271 - dense_3_acc_6: 0.0345 - dense_3_acc_7: 0.9104 - dense_3_acc_8: 0.2282 - dense_3_acc_9: 0.098 - ETA: 2s - loss: 17.2954 - dense_3_loss: 2.6453 - dense_3_acc: 0.4627 - dense_3_acc_1: 0.6074 - dense_3_acc_2: 0.2720 - dense_3_acc_3: 0.0641 - dense_3_acc_4: 0.9360 - dense_3_acc_5: 0.3313 - dense_3_acc_6: 0.0360 - dense_3_acc_7: 0.9114 - dense_3_acc_8: 0.2312 - dense_3_acc_9: 0.099 - ETA: 1s - loss: 17.2292 - dense_3_loss: 2.6408 - dense_3_acc: 0.4667 - dense_3_acc_1: 0.6101 - dense_3_acc_2: 0.2734 - dense_3_acc_3: 0.0643 - dense_3_acc_4: 0.9367 - dense_3_acc_5: 0.3354 - dense_3_acc_6: 0.0377 - dense_3_acc_7: 0.9123 - dense_3_acc_8: 0.2340 - dense_3_acc_9: 0.100 - ETA: 1s - loss: 17.1598 - dense_3_loss: 2.6367 - dense_3_acc: 0.4713 - dense_3_acc_1: 0.6133 - dense_3_acc_2: 0.2746 - dense_3_acc_3: 0.0649 - dense_3_acc_4: 0.9374 - dense_3_acc_5: 0.3405 - dense_3_acc_6: 0.0399 - dense_3_acc_7: 0.9133 - dense_3_acc_8: 0.2365 - dense_3_acc_9: 0.100 - ETA: 1s - loss: 17.0931 - dense_3_loss: 2.6327 - dense_3_acc: 0.4762 - dense_3_acc_1: 0.6169 - dense_3_acc_2: 0.2755 - dense_3_acc_3: 0.0661 - dense_3_acc_4: 0.9380 - dense_3_acc_5: 0.3452 - dense_3_acc_6: 0.0412 - dense_3_acc_7: 0.9142 - dense_3_acc_8: 0.2387 - dense_3_acc_9: 0.101 - ETA: 0s - loss: 17.0283 - dense_3_loss: 2.6294 - dense_3_acc: 0.4806 - dense_3_acc_1: 0.6201 - dense_3_acc_2: 0.2763 - dense_3_acc_3: 0.0668 - dense_3_acc_4: 0.9387 - dense_3_acc_5: 0.3496 - dense_3_acc_6: 0.0432 - dense_3_acc_7: 0.9151 - dense_3_acc_8: 0.2416 - dense_3_acc_9: 0.101 - ETA: 0s - loss: 16.9629 - dense_3_loss: 2.6262 - dense_3_acc: 0.4855 - dense_3_acc_1: 0.6234 - dense_3_acc_2: 0.2771 - dense_3_acc_3: 0.0680 - dense_3_acc_4: 0.9393 - dense_3_acc_5: 0.3542 - dense_3_acc_6: 0.0460 - dense_3_acc_7: 0.9159 - dense_3_acc_8: 0.2441 - dense_3_acc_9: 0.101 - ETA: 0s - loss: 16.9002 - dense_3_loss: 2.6224 - dense_3_acc: 0.4902 - dense_3_acc_1: 0.6267 - dense_3_acc_2: 0.2785 - dense_3_acc_3: 0.0682 - dense_3_acc_4: 0.9399 - dense_3_acc_5: 0.3577 - dense_3_acc_6: 0.0475 - dense_3_acc_7: 0.9168 - dense_3_acc_8: 0.2461 - dense_3_acc_9: 0.102 - 28s 3ms/step - loss: 16.8331 - dense_3_loss: 2.6186 - dense_3_acc: 0.4950 - dense_3_acc_1: 0.6302 - dense_3_acc_2: 0.2811 - dense_3_acc_3: 0.0691 - dense_3_acc_4: 0.9405 - dense_3_acc_5: 0.3620 - dense_3_acc_6: 0.0490 - dense_3_acc_7: 0.9176 - dense_3_acc_8: 0.2489 - dense_3_acc_9: 0.1033\n"
     ]
    },
    {
     "data": {
      "text/plain": [
       "<keras.callbacks.History at 0x23aa35fd2e8>"
      ]
     },
     "execution_count": 14,
     "metadata": {},
     "output_type": "execute_result"
    }
   ],
   "source": [
    "model.fit([Xoh, s0, c0], outputs, epochs=1, batch_size=100)"
   ]
  },
  {
   "cell_type": "markdown",
   "metadata": {},
   "source": [
    "While training you can see the loss as well as the accuracy on each of the 10 positions of the output. The table below gives you an example of what the accuracies could be if the batch had 2 examples: \n",
    "\n",
    "<img src=\"images/table.png\" style=\"width:700;height:200px;\"> <br>\n",
    "<caption><center>Thus, `dense_2_acc_8: 0.89` means that you are predicting the 7th character of the output correctly 89% of the time in the current batch of data. </center></caption>\n",
    "\n",
    "\n",
    "We have run this model for longer, and saved the weights. Run the next cell to load our weights. (By training a model for several minutes, you should be able to obtain a model of similar accuracy, but loading our model will save you time.) "
   ]
  },
  {
   "cell_type": "code",
   "execution_count": 15,
   "metadata": {},
   "outputs": [],
   "source": [
    "model.load_weights('models/model.h5')"
   ]
  },
  {
   "cell_type": "markdown",
   "metadata": {},
   "source": [
    "You can now see the results on new examples."
   ]
  },
  {
   "cell_type": "code",
   "execution_count": 17,
   "metadata": {},
   "outputs": [
    {
     "name": "stdout",
     "output_type": "stream",
     "text": [
      "source: 3 May 1979\n",
      "output: 1979-05-03\n",
      "source: 5 April 09\n",
      "output: 2009-05-05\n",
      "source: 21th of August 2016\n",
      "output: 2016-08-21\n",
      "source: Tue 10 Jul 2007\n",
      "output: 2007-07-10\n",
      "source: Saturday May 9 2018\n",
      "output: 2018-05-09\n",
      "source: March 3 2001\n",
      "output: 2001-03-03\n",
      "source: March 3rd 2001\n",
      "output: 2001-03-03\n",
      "source: 1 March 2001\n",
      "output: 2001-03-01\n"
     ]
    }
   ],
   "source": [
    "EXAMPLES = ['3 May 1979', '5 April 09', '21th of August 2016', 'Tue 10 Jul 2007', 'Saturday May 9 2018', 'March 3 2001', 'March 3rd 2001', '1 March 2001']\n",
    "for example in EXAMPLES:\n",
    "    \n",
    "    source = string_to_int(example, Tx, human_vocab)\n",
    "    source = np.array(list(map(lambda x: to_categorical(x, num_classes=len(human_vocab)), source)))\n",
    "    source = np.expand_dims(source, axis = 0)\n",
    "    prediction = model.predict([source, s0, c0])\n",
    "    prediction = np.argmax(prediction, axis = -1)\n",
    "    output = [inv_machine_vocab[int(i)] for i in prediction]\n",
    "    \n",
    "    print(\"source:\", example)\n",
    "    print(\"output:\", ''.join(output))"
   ]
  },
  {
   "cell_type": "markdown",
   "metadata": {},
   "source": [
    "You can also change these examples to test with your own examples. The next part will give you a better sense on what the attention mechanism is doing--i.e., what part of the input the network is paying attention to when generating a particular output character. "
   ]
  },
  {
   "cell_type": "markdown",
   "metadata": {},
   "source": [
    "## 3 - Visualizing Attention (Optional / Ungraded)\n",
    "\n",
    "Since the problem has a fixed output length of 10, it is also possible to carry out this task using 10 different softmax units to generate the 10 characters of the output. But one advantage of the attention model is that each part of the output (say the month) knows it needs to depend only on a small part of the input (the characters in the input giving the month). We can  visualize what part of the output is looking at what part of the input.\n",
    "\n",
    "Consider the task of translating \"Saturday 9 May 2018\" to \"2018-05-09\". If we visualize the computed $\\alpha^{\\langle t, t' \\rangle}$ we get this: \n",
    "\n",
    "<img src=\"images/date_attention.png\" style=\"width:600;height:300px;\"> <br>\n",
    "<caption><center> **Figure 8**: Full Attention Map</center></caption>\n",
    "\n",
    "Notice how the output ignores the \"Saturday\" portion of the input. None of the output timesteps are paying much attention to that portion of the input. We see also that 9 has been translated as 09 and May has been correctly translated into 05, with the output paying attention to the parts of the input it needs to to make the translation. The year mostly requires it to pay attention to the input's \"18\" in order to generate \"2018.\" \n",
    "\n"
   ]
  },
  {
   "cell_type": "markdown",
   "metadata": {},
   "source": [
    "### 3.1 - Getting the activations from the network\n",
    "\n",
    "Lets now visualize the attention values in your network. We'll propagate an example through the network, then visualize the values of $\\alpha^{\\langle t, t' \\rangle}$. \n",
    "\n",
    "To figure out where the attention values are located, let's start by printing a summary of the model ."
   ]
  },
  {
   "cell_type": "code",
   "execution_count": 18,
   "metadata": {},
   "outputs": [
    {
     "name": "stdout",
     "output_type": "stream",
     "text": [
      "__________________________________________________________________________________________________\n",
      "Layer (type)                    Output Shape         Param #     Connected to                     \n",
      "==================================================================================================\n",
      "input_1 (InputLayer)            (None, 30, 37)       0                                            \n",
      "__________________________________________________________________________________________________\n",
      "s0 (InputLayer)                 (None, 64)           0                                            \n",
      "__________________________________________________________________________________________________\n",
      "bidirectional_1 (Bidirectional) (None, 30, 64)       17920       input_1[0][0]                    \n",
      "__________________________________________________________________________________________________\n",
      "repeat_vector_1 (RepeatVector)  (None, 30, 64)       0           s0[0][0]                         \n",
      "                                                                 lstm_1[0][0]                     \n",
      "                                                                 lstm_1[1][0]                     \n",
      "                                                                 lstm_1[2][0]                     \n",
      "                                                                 lstm_1[3][0]                     \n",
      "                                                                 lstm_1[4][0]                     \n",
      "                                                                 lstm_1[5][0]                     \n",
      "                                                                 lstm_1[6][0]                     \n",
      "                                                                 lstm_1[7][0]                     \n",
      "                                                                 lstm_1[8][0]                     \n",
      "__________________________________________________________________________________________________\n",
      "concatenate_1 (Concatenate)     (None, 30, 128)      0           bidirectional_1[0][0]            \n",
      "                                                                 repeat_vector_1[0][0]            \n",
      "                                                                 bidirectional_1[0][0]            \n",
      "                                                                 repeat_vector_1[1][0]            \n",
      "                                                                 bidirectional_1[0][0]            \n",
      "                                                                 repeat_vector_1[2][0]            \n",
      "                                                                 bidirectional_1[0][0]            \n",
      "                                                                 repeat_vector_1[3][0]            \n",
      "                                                                 bidirectional_1[0][0]            \n",
      "                                                                 repeat_vector_1[4][0]            \n",
      "                                                                 bidirectional_1[0][0]            \n",
      "                                                                 repeat_vector_1[5][0]            \n",
      "                                                                 bidirectional_1[0][0]            \n",
      "                                                                 repeat_vector_1[6][0]            \n",
      "                                                                 bidirectional_1[0][0]            \n",
      "                                                                 repeat_vector_1[7][0]            \n",
      "                                                                 bidirectional_1[0][0]            \n",
      "                                                                 repeat_vector_1[8][0]            \n",
      "                                                                 bidirectional_1[0][0]            \n",
      "                                                                 repeat_vector_1[9][0]            \n",
      "__________________________________________________________________________________________________\n",
      "dense_1 (Dense)                 (None, 30, 10)       1290        concatenate_1[0][0]              \n",
      "                                                                 concatenate_1[1][0]              \n",
      "                                                                 concatenate_1[2][0]              \n",
      "                                                                 concatenate_1[3][0]              \n",
      "                                                                 concatenate_1[4][0]              \n",
      "                                                                 concatenate_1[5][0]              \n",
      "                                                                 concatenate_1[6][0]              \n",
      "                                                                 concatenate_1[7][0]              \n",
      "                                                                 concatenate_1[8][0]              \n",
      "                                                                 concatenate_1[9][0]              \n",
      "__________________________________________________________________________________________________\n",
      "dense_2 (Dense)                 (None, 30, 1)        11          dense_1[0][0]                    \n",
      "                                                                 dense_1[1][0]                    \n",
      "                                                                 dense_1[2][0]                    \n",
      "                                                                 dense_1[3][0]                    \n",
      "                                                                 dense_1[4][0]                    \n",
      "                                                                 dense_1[5][0]                    \n",
      "                                                                 dense_1[6][0]                    \n",
      "                                                                 dense_1[7][0]                    \n",
      "                                                                 dense_1[8][0]                    \n",
      "                                                                 dense_1[9][0]                    \n",
      "__________________________________________________________________________________________________\n",
      "attention_weights (Activation)  (None, 30, 1)        0           dense_2[0][0]                    \n",
      "                                                                 dense_2[1][0]                    \n",
      "                                                                 dense_2[2][0]                    \n",
      "                                                                 dense_2[3][0]                    \n",
      "                                                                 dense_2[4][0]                    \n",
      "                                                                 dense_2[5][0]                    \n",
      "                                                                 dense_2[6][0]                    \n",
      "                                                                 dense_2[7][0]                    \n",
      "                                                                 dense_2[8][0]                    \n",
      "                                                                 dense_2[9][0]                    \n",
      "__________________________________________________________________________________________________\n",
      "dot_1 (Dot)                     (None, 1, 64)        0           attention_weights[0][0]          \n",
      "                                                                 bidirectional_1[0][0]            \n",
      "                                                                 attention_weights[1][0]          \n",
      "                                                                 bidirectional_1[0][0]            \n",
      "                                                                 attention_weights[2][0]          \n",
      "                                                                 bidirectional_1[0][0]            \n",
      "                                                                 attention_weights[3][0]          \n",
      "                                                                 bidirectional_1[0][0]            \n"
     ]
    },
    {
     "name": "stdout",
     "output_type": "stream",
     "text": [
      "                                                                 attention_weights[4][0]          \n",
      "                                                                 bidirectional_1[0][0]            \n",
      "                                                                 attention_weights[5][0]          \n",
      "                                                                 bidirectional_1[0][0]            \n",
      "                                                                 attention_weights[6][0]          \n",
      "                                                                 bidirectional_1[0][0]            \n",
      "                                                                 attention_weights[7][0]          \n",
      "                                                                 bidirectional_1[0][0]            \n",
      "                                                                 attention_weights[8][0]          \n",
      "                                                                 bidirectional_1[0][0]            \n",
      "                                                                 attention_weights[9][0]          \n",
      "                                                                 bidirectional_1[0][0]            \n",
      "__________________________________________________________________________________________________\n",
      "c0 (InputLayer)                 (None, 64)           0                                            \n",
      "__________________________________________________________________________________________________\n",
      "lstm_1 (LSTM)                   [(None, 64), (None,  33024       dot_1[0][0]                      \n",
      "                                                                 s0[0][0]                         \n",
      "                                                                 c0[0][0]                         \n",
      "                                                                 dot_1[1][0]                      \n",
      "                                                                 lstm_1[0][0]                     \n",
      "                                                                 lstm_1[0][2]                     \n",
      "                                                                 dot_1[2][0]                      \n",
      "                                                                 lstm_1[1][0]                     \n",
      "                                                                 lstm_1[1][2]                     \n",
      "                                                                 dot_1[3][0]                      \n",
      "                                                                 lstm_1[2][0]                     \n",
      "                                                                 lstm_1[2][2]                     \n",
      "                                                                 dot_1[4][0]                      \n",
      "                                                                 lstm_1[3][0]                     \n",
      "                                                                 lstm_1[3][2]                     \n",
      "                                                                 dot_1[5][0]                      \n",
      "                                                                 lstm_1[4][0]                     \n",
      "                                                                 lstm_1[4][2]                     \n",
      "                                                                 dot_1[6][0]                      \n",
      "                                                                 lstm_1[5][0]                     \n",
      "                                                                 lstm_1[5][2]                     \n",
      "                                                                 dot_1[7][0]                      \n",
      "                                                                 lstm_1[6][0]                     \n",
      "                                                                 lstm_1[6][2]                     \n",
      "                                                                 dot_1[8][0]                      \n",
      "                                                                 lstm_1[7][0]                     \n",
      "                                                                 lstm_1[7][2]                     \n",
      "                                                                 dot_1[9][0]                      \n",
      "                                                                 lstm_1[8][0]                     \n",
      "                                                                 lstm_1[8][2]                     \n",
      "__________________________________________________________________________________________________\n",
      "dense_3 (Dense)                 (None, 11)           715         lstm_1[0][0]                     \n",
      "                                                                 lstm_1[1][0]                     \n",
      "                                                                 lstm_1[2][0]                     \n",
      "                                                                 lstm_1[3][0]                     \n",
      "                                                                 lstm_1[4][0]                     \n",
      "                                                                 lstm_1[5][0]                     \n",
      "                                                                 lstm_1[6][0]                     \n",
      "                                                                 lstm_1[7][0]                     \n",
      "                                                                 lstm_1[8][0]                     \n",
      "                                                                 lstm_1[9][0]                     \n",
      "==================================================================================================\n",
      "Total params: 52,960\n",
      "Trainable params: 52,960\n",
      "Non-trainable params: 0\n",
      "__________________________________________________________________________________________________\n"
     ]
    }
   ],
   "source": [
    "model.summary()"
   ]
  },
  {
   "cell_type": "markdown",
   "metadata": {},
   "source": [
    "Navigate through the output of `model.summary()` above. You can see that the layer named `attention_weights` outputs the `alphas` of shape (m, 30, 1) before `dot_2` computes the context vector for every time step $t = 0, \\ldots, T_y-1$. Lets get the activations from this layer.\n",
    "\n",
    "The function `attention_map()` pulls out the attention values from your model and plots them."
   ]
  },
  {
   "cell_type": "code",
   "execution_count": 19,
   "metadata": {
    "scrolled": false
   },
   "outputs": [
    {
     "data": {
      "text/plain": [
       "<Figure size 432x288 with 0 Axes>"
      ]
     },
     "metadata": {},
     "output_type": "display_data"
    },
    {
     "data": {
      "image/png": "[encoded data removed]",
      "text/plain": [
       "<Figure size 576x612 with 2 Axes>"
      ]
     },
     "metadata": {
      "needs_background": "light"
     },
     "output_type": "display_data"
    }
   ],
   "source": [
    "attention_map = plot_attention_map(model, human_vocab, inv_machine_vocab, \"Tuesday 09 Oct 1993\", num = 7, n_s = 64)"
   ]
  },
  {
   "cell_type": "markdown",
   "metadata": {},
   "source": [
    "On the generated plot you can observe the values of the attention weights for each character of the predicted output. Examine this plot and check that where the network is paying attention makes sense to you.\n",
    "\n",
    "In the date translation application, you will observe that most of the time attention helps predict the year, and hasn't much impact on predicting the day/month."
   ]
  },
  {
   "cell_type": "markdown",
   "metadata": {},
   "source": [
    "### Congratulations!\n",
    "\n",
    "\n",
    "You have come to the end of this assignment \n",
    "\n",
    "<font color='blue'> **Here's what you should remember from this notebook**:\n",
    "\n",
    "- Machine translation models can be used to map from one sequence to another. They are useful not just for translating human languages (like French->English) but also for tasks like date format translation. \n",
    "- An attention mechanism allows a network to focus on the most relevant parts of the input when producing a specific part of the output. \n",
    "- A network using an attention mechanism can translate from inputs of length $T_x$ to outputs of length $T_y$, where $T_x$ and $T_y$ can be different. \n",
    "- You can visualize attention weights $\\alpha^{\\langle t,t' \\rangle}$ to see what the network is paying attention to while generating each output."
   ]
  },
  {
   "cell_type": "markdown",
   "metadata": {},
   "source": [
    "Congratulations on finishing this assignment! You are now able to implement an attention model and use it to learn complex mappings from one sequence to another. "
   ]
  }
 ],
 "metadata": {
  "coursera": {
   "course_slug": "nlp-sequence-models",
   "graded_item_id": "n16CQ",
   "launcher_item_id": "npjGi"
  },
  "kernelspec": {
   "display_name": "Python 3",
   "language": "python",
   "name": "python3"
  },
  "language_info": {
   "codemirror_mode": {
    "name": "ipython",
    "version": 3
   },
   "file_extension": ".py",
   "mimetype": "text/x-python",
   "name": "python",
   "nbconvert_exporter": "python",
   "pygments_lexer": "ipython3",
   "version": "3.7.3"
  }
 },
 "nbformat": 4,
 "nbformat_minor": 2
}
